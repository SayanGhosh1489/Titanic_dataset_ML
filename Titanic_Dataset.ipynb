{
 "cells": [
  {
   "cell_type": "markdown",
   "id": "461f5205",
   "metadata": {},
   "source": [
    "# TITANIC DATASET EDA AND ML MODEL "
   ]
  },
  {
   "cell_type": "code",
   "execution_count": 1,
   "id": "cff399c6",
   "metadata": {},
   "outputs": [],
   "source": [
    "# importing libraries required to read the data\n",
    "import os\n",
    "from zipfile import ZipFile\n",
    "\n",
    "#importing libaries required for EDA\n",
    "import pandas as pd\n",
    "import numpy as np\n",
    "\n",
    "#importing libaries for data visualization\n",
    "import seaborn as sns\n",
    "import matplotlib.pyplot as plt\n",
    "%matplotlib inline\n",
    "\n",
    "#importing libaries for data preparation and pipeline\n",
    "from sklearn.compose import ColumnTransformer\n",
    "from sklearn.preprocessing import OneHotEncoder\n",
    "from sklearn.pipeline import Pipeline\n",
    "from sklearn.preprocessing import StandardScaler\n",
    "from sklearn.impute import SimpleImputer\n",
    "\n",
    "#importing libaries for ML modeling\n",
    "from sklearn.neighbors import KNeighborsClassifier\n",
    "from sklearn.ensemble import RandomForestClassifier\n",
    "from sklearn.linear_model import LogisticRegression, Perceptron, SGDClassifier\n",
    "from sklearn.svm import SVC, LinearSVC\n",
    "from sklearn.tree import DecisionTreeClassifier\n",
    "from sklearn.naive_bayes import GaussianNB\n",
    "\n",
    "#importing libaries for model performance validation\n",
    "from sklearn import metrics\n",
    "from sklearn.model_selection import cross_val_score, cross_val_predict\n"
   ]
  },
  {
   "cell_type": "code",
   "execution_count": 2,
   "id": "8ba488f0",
   "metadata": {},
   "outputs": [
    {
     "name": "stdout",
     "output_type": "stream",
     "text": [
      "titanic.zip: Skipping, found more recently modified local copy (use --force to force download)\n"
     ]
    }
   ],
   "source": [
    "#setting up env to download data from Kaggle\n",
    "os.environ['KAGGLE_CONFIG_DIR'] =  os.getcwd()\n",
    "!kaggle competitions download -c titanic"
   ]
  },
  {
   "cell_type": "code",
   "execution_count": 3,
   "id": "94e978cb",
   "metadata": {},
   "outputs": [],
   "source": [
    "def zip_file_extraction(folders = ['dataset'], file_path = os.getcwd()):\n",
    "    \"\"\"\n",
    "    This Fuction will take input of foldername (default 'dataset')as list.\n",
    "    folder path (default 'currect dir')\n",
    "    \n",
    "    \"\"\"\n",
    "    for folder in folders:\n",
    "        folder_path = os.path.join(file_path,folder)\n",
    "        if not os.path.exists(folder_path):\n",
    "            os.mkdir(folder)\n",
    "        else:\n",
    "            print('Folder already present')\n",
    "    folder_path = os.path.join(file_path,'dataset')\n",
    "    for file in os.listdir(file_path):\n",
    "        if file.endswith('.zip'):\n",
    "            with ZipFile(file) as zobj:\n",
    "                zobj.extractall(folder_path)"
   ]
  },
  {
   "cell_type": "code",
   "execution_count": 4,
   "id": "b8bbcfc5",
   "metadata": {},
   "outputs": [
    {
     "name": "stdout",
     "output_type": "stream",
     "text": [
      "Folder already present\n",
      "Folder already present\n"
     ]
    }
   ],
   "source": [
    "zip_file_extraction(folders=['dataset', 'submission'])"
   ]
  },
  {
   "cell_type": "markdown",
   "id": "05ea0518",
   "metadata": {},
   "source": [
    "## DATA READING AND ANALYSIS"
   ]
  },
  {
   "cell_type": "code",
   "execution_count": 5,
   "id": "be62ab11",
   "metadata": {},
   "outputs": [],
   "source": [
    "titanic = pd.read_csv('./dataset/train.csv')"
   ]
  },
  {
   "cell_type": "code",
   "execution_count": 6,
   "id": "0bcd4c54",
   "metadata": {},
   "outputs": [
    {
     "data": {
      "text/html": [
       "<div>\n",
       "<style scoped>\n",
       "    .dataframe tbody tr th:only-of-type {\n",
       "        vertical-align: middle;\n",
       "    }\n",
       "\n",
       "    .dataframe tbody tr th {\n",
       "        vertical-align: top;\n",
       "    }\n",
       "\n",
       "    .dataframe thead th {\n",
       "        text-align: right;\n",
       "    }\n",
       "</style>\n",
       "<table border=\"1\" class=\"dataframe\">\n",
       "  <thead>\n",
       "    <tr style=\"text-align: right;\">\n",
       "      <th></th>\n",
       "      <th>PassengerId</th>\n",
       "      <th>Survived</th>\n",
       "      <th>Pclass</th>\n",
       "      <th>Name</th>\n",
       "      <th>Sex</th>\n",
       "      <th>Age</th>\n",
       "      <th>SibSp</th>\n",
       "      <th>Parch</th>\n",
       "      <th>Ticket</th>\n",
       "      <th>Fare</th>\n",
       "      <th>Cabin</th>\n",
       "      <th>Embarked</th>\n",
       "    </tr>\n",
       "  </thead>\n",
       "  <tbody>\n",
       "    <tr>\n",
       "      <th>329</th>\n",
       "      <td>330</td>\n",
       "      <td>1</td>\n",
       "      <td>1</td>\n",
       "      <td>Hippach, Miss. Jean Gertrude</td>\n",
       "      <td>female</td>\n",
       "      <td>16.0</td>\n",
       "      <td>0</td>\n",
       "      <td>1</td>\n",
       "      <td>111361</td>\n",
       "      <td>57.9792</td>\n",
       "      <td>B18</td>\n",
       "      <td>C</td>\n",
       "    </tr>\n",
       "    <tr>\n",
       "      <th>809</th>\n",
       "      <td>810</td>\n",
       "      <td>1</td>\n",
       "      <td>1</td>\n",
       "      <td>Chambers, Mrs. Norman Campbell (Bertha Griggs)</td>\n",
       "      <td>female</td>\n",
       "      <td>33.0</td>\n",
       "      <td>1</td>\n",
       "      <td>0</td>\n",
       "      <td>113806</td>\n",
       "      <td>53.1000</td>\n",
       "      <td>E8</td>\n",
       "      <td>S</td>\n",
       "    </tr>\n",
       "    <tr>\n",
       "      <th>229</th>\n",
       "      <td>230</td>\n",
       "      <td>0</td>\n",
       "      <td>3</td>\n",
       "      <td>Lefebre, Miss. Mathilde</td>\n",
       "      <td>female</td>\n",
       "      <td>NaN</td>\n",
       "      <td>3</td>\n",
       "      <td>1</td>\n",
       "      <td>4133</td>\n",
       "      <td>25.4667</td>\n",
       "      <td>NaN</td>\n",
       "      <td>S</td>\n",
       "    </tr>\n",
       "    <tr>\n",
       "      <th>4</th>\n",
       "      <td>5</td>\n",
       "      <td>0</td>\n",
       "      <td>3</td>\n",
       "      <td>Allen, Mr. William Henry</td>\n",
       "      <td>male</td>\n",
       "      <td>35.0</td>\n",
       "      <td>0</td>\n",
       "      <td>0</td>\n",
       "      <td>373450</td>\n",
       "      <td>8.0500</td>\n",
       "      <td>NaN</td>\n",
       "      <td>S</td>\n",
       "    </tr>\n",
       "    <tr>\n",
       "      <th>782</th>\n",
       "      <td>783</td>\n",
       "      <td>0</td>\n",
       "      <td>1</td>\n",
       "      <td>Long, Mr. Milton Clyde</td>\n",
       "      <td>male</td>\n",
       "      <td>29.0</td>\n",
       "      <td>0</td>\n",
       "      <td>0</td>\n",
       "      <td>113501</td>\n",
       "      <td>30.0000</td>\n",
       "      <td>D6</td>\n",
       "      <td>S</td>\n",
       "    </tr>\n",
       "  </tbody>\n",
       "</table>\n",
       "</div>"
      ],
      "text/plain": [
       "     PassengerId  Survived  Pclass  \\\n",
       "329          330         1       1   \n",
       "809          810         1       1   \n",
       "229          230         0       3   \n",
       "4              5         0       3   \n",
       "782          783         0       1   \n",
       "\n",
       "                                               Name     Sex   Age  SibSp  \\\n",
       "329                    Hippach, Miss. Jean Gertrude  female  16.0      0   \n",
       "809  Chambers, Mrs. Norman Campbell (Bertha Griggs)  female  33.0      1   \n",
       "229                         Lefebre, Miss. Mathilde  female   NaN      3   \n",
       "4                          Allen, Mr. William Henry    male  35.0      0   \n",
       "782                          Long, Mr. Milton Clyde    male  29.0      0   \n",
       "\n",
       "     Parch  Ticket     Fare Cabin Embarked  \n",
       "329      1  111361  57.9792   B18        C  \n",
       "809      0  113806  53.1000    E8        S  \n",
       "229      1    4133  25.4667   NaN        S  \n",
       "4        0  373450   8.0500   NaN        S  \n",
       "782      0  113501  30.0000    D6        S  "
      ]
     },
     "execution_count": 6,
     "metadata": {},
     "output_type": "execute_result"
    }
   ],
   "source": [
    "titanic.sample(5)"
   ]
  },
  {
   "cell_type": "code",
   "execution_count": 7,
   "id": "53bb1037",
   "metadata": {},
   "outputs": [
    {
     "data": {
      "text/plain": [
       "(891, 12)"
      ]
     },
     "execution_count": 7,
     "metadata": {},
     "output_type": "execute_result"
    }
   ],
   "source": [
    "titanic.shape"
   ]
  },
  {
   "cell_type": "code",
   "execution_count": 8,
   "id": "cc54000d",
   "metadata": {},
   "outputs": [
    {
     "name": "stdout",
     "output_type": "stream",
     "text": [
      "<class 'pandas.core.frame.DataFrame'>\n",
      "RangeIndex: 891 entries, 0 to 890\n",
      "Data columns (total 12 columns):\n",
      " #   Column       Non-Null Count  Dtype  \n",
      "---  ------       --------------  -----  \n",
      " 0   PassengerId  891 non-null    int64  \n",
      " 1   Survived     891 non-null    int64  \n",
      " 2   Pclass       891 non-null    int64  \n",
      " 3   Name         891 non-null    object \n",
      " 4   Sex          891 non-null    object \n",
      " 5   Age          714 non-null    float64\n",
      " 6   SibSp        891 non-null    int64  \n",
      " 7   Parch        891 non-null    int64  \n",
      " 8   Ticket       891 non-null    object \n",
      " 9   Fare         891 non-null    float64\n",
      " 10  Cabin        204 non-null    object \n",
      " 11  Embarked     889 non-null    object \n",
      "dtypes: float64(2), int64(5), object(5)\n",
      "memory usage: 83.7+ KB\n"
     ]
    }
   ],
   "source": [
    "titanic.info()"
   ]
  },
  {
   "cell_type": "markdown",
   "id": "b18bdbd2",
   "metadata": {},
   "source": [
    "- Survided got a Negative Corr with Pclass, age, SibSp\n",
    "- that means that passenger staying in lower class chances of survival is less.\n",
    "- if age is more than chances of survival is also less.\n",
    "- Passenger with spouse have lesser chance of survival\n",
    "- But if you got childern (Parch) passenger got higher chance of survival\n",
    "- Fare got positive corr with survided that means higher class passenger got hogh posbility of survival. Which supports the negative corr with Pclass\n"
   ]
  },
  {
   "cell_type": "code",
   "execution_count": 9,
   "id": "07588806",
   "metadata": {},
   "outputs": [
    {
     "data": {
      "image/png": "[encoded data removed]",
      "text/plain": [
       "<Figure size 640x480 with 1 Axes>"
      ]
     },
     "metadata": {},
     "output_type": "display_data"
    }
   ],
   "source": [
    "#plotting bar graph survived, sex in every class\n",
    "sns.barplot(x=titanic['Sex'], y=titanic['Survived'], hue = titanic['Pclass']); "
   ]
  },
  {
   "cell_type": "markdown",
   "id": "cda68bcc",
   "metadata": {},
   "source": [
    "- Above graph shows that 1st class passengers were saved more than the 3rd class passenger.\n",
    "- Above graph shows that irrespective of class female passengers were saved more.\n",
    "- Need to check class wise sex distribution. "
   ]
  },
  {
   "cell_type": "code",
   "execution_count": 10,
   "id": "cbb4dfc4",
   "metadata": {},
   "outputs": [],
   "source": [
    "#grupoby dataframe on Pclass, age\n",
    "titanic_groupby_class_sex = titanic.groupby(['Pclass','Sex', 'Survived']).agg({ 'Age' : 'mean', 'Name' : 'count'}).reset_index()\n",
    "titanic_groupby_class_sex.rename(columns={'Name' : 'Count', 'Age' : 'Avg_Age'},inplace= True)\n",
    "titanic_groupby_class_sex['Sex_pct'] = (titanic_groupby_class_sex['Count']/titanic_groupby_class_sex['Count'].sum())*100"
   ]
  },
  {
   "cell_type": "code",
   "execution_count": 11,
   "id": "d34ef21d",
   "metadata": {},
   "outputs": [
    {
     "data": {
      "text/html": [
       "<div>\n",
       "<style scoped>\n",
       "    .dataframe tbody tr th:only-of-type {\n",
       "        vertical-align: middle;\n",
       "    }\n",
       "\n",
       "    .dataframe tbody tr th {\n",
       "        vertical-align: top;\n",
       "    }\n",
       "\n",
       "    .dataframe thead th {\n",
       "        text-align: right;\n",
       "    }\n",
       "</style>\n",
       "<table border=\"1\" class=\"dataframe\">\n",
       "  <thead>\n",
       "    <tr style=\"text-align: right;\">\n",
       "      <th></th>\n",
       "      <th>Pclass</th>\n",
       "      <th>Sex</th>\n",
       "      <th>Survived</th>\n",
       "      <th>Avg_Age</th>\n",
       "      <th>Count</th>\n",
       "      <th>Sex_pct</th>\n",
       "    </tr>\n",
       "  </thead>\n",
       "  <tbody>\n",
       "    <tr>\n",
       "      <th>0</th>\n",
       "      <td>1</td>\n",
       "      <td>female</td>\n",
       "      <td>0</td>\n",
       "      <td>25.666667</td>\n",
       "      <td>3</td>\n",
       "      <td>0.336700</td>\n",
       "    </tr>\n",
       "    <tr>\n",
       "      <th>1</th>\n",
       "      <td>1</td>\n",
       "      <td>female</td>\n",
       "      <td>1</td>\n",
       "      <td>34.939024</td>\n",
       "      <td>91</td>\n",
       "      <td>10.213244</td>\n",
       "    </tr>\n",
       "    <tr>\n",
       "      <th>2</th>\n",
       "      <td>1</td>\n",
       "      <td>male</td>\n",
       "      <td>0</td>\n",
       "      <td>44.581967</td>\n",
       "      <td>77</td>\n",
       "      <td>8.641975</td>\n",
       "    </tr>\n",
       "    <tr>\n",
       "      <th>3</th>\n",
       "      <td>1</td>\n",
       "      <td>male</td>\n",
       "      <td>1</td>\n",
       "      <td>36.248000</td>\n",
       "      <td>45</td>\n",
       "      <td>5.050505</td>\n",
       "    </tr>\n",
       "    <tr>\n",
       "      <th>4</th>\n",
       "      <td>2</td>\n",
       "      <td>female</td>\n",
       "      <td>0</td>\n",
       "      <td>36.000000</td>\n",
       "      <td>6</td>\n",
       "      <td>0.673401</td>\n",
       "    </tr>\n",
       "    <tr>\n",
       "      <th>5</th>\n",
       "      <td>2</td>\n",
       "      <td>female</td>\n",
       "      <td>1</td>\n",
       "      <td>28.080882</td>\n",
       "      <td>70</td>\n",
       "      <td>7.856341</td>\n",
       "    </tr>\n",
       "    <tr>\n",
       "      <th>6</th>\n",
       "      <td>2</td>\n",
       "      <td>male</td>\n",
       "      <td>0</td>\n",
       "      <td>33.369048</td>\n",
       "      <td>91</td>\n",
       "      <td>10.213244</td>\n",
       "    </tr>\n",
       "    <tr>\n",
       "      <th>7</th>\n",
       "      <td>2</td>\n",
       "      <td>male</td>\n",
       "      <td>1</td>\n",
       "      <td>16.022000</td>\n",
       "      <td>17</td>\n",
       "      <td>1.907969</td>\n",
       "    </tr>\n",
       "    <tr>\n",
       "      <th>8</th>\n",
       "      <td>3</td>\n",
       "      <td>female</td>\n",
       "      <td>0</td>\n",
       "      <td>23.818182</td>\n",
       "      <td>72</td>\n",
       "      <td>8.080808</td>\n",
       "    </tr>\n",
       "    <tr>\n",
       "      <th>9</th>\n",
       "      <td>3</td>\n",
       "      <td>female</td>\n",
       "      <td>1</td>\n",
       "      <td>19.329787</td>\n",
       "      <td>72</td>\n",
       "      <td>8.080808</td>\n",
       "    </tr>\n",
       "    <tr>\n",
       "      <th>10</th>\n",
       "      <td>3</td>\n",
       "      <td>male</td>\n",
       "      <td>0</td>\n",
       "      <td>27.255814</td>\n",
       "      <td>300</td>\n",
       "      <td>33.670034</td>\n",
       "    </tr>\n",
       "    <tr>\n",
       "      <th>11</th>\n",
       "      <td>3</td>\n",
       "      <td>male</td>\n",
       "      <td>1</td>\n",
       "      <td>22.274211</td>\n",
       "      <td>47</td>\n",
       "      <td>5.274972</td>\n",
       "    </tr>\n",
       "  </tbody>\n",
       "</table>\n",
       "</div>"
      ],
      "text/plain": [
       "    Pclass     Sex  Survived    Avg_Age  Count    Sex_pct\n",
       "0        1  female         0  25.666667      3   0.336700\n",
       "1        1  female         1  34.939024     91  10.213244\n",
       "2        1    male         0  44.581967     77   8.641975\n",
       "3        1    male         1  36.248000     45   5.050505\n",
       "4        2  female         0  36.000000      6   0.673401\n",
       "5        2  female         1  28.080882     70   7.856341\n",
       "6        2    male         0  33.369048     91  10.213244\n",
       "7        2    male         1  16.022000     17   1.907969\n",
       "8        3  female         0  23.818182     72   8.080808\n",
       "9        3  female         1  19.329787     72   8.080808\n",
       "10       3    male         0  27.255814    300  33.670034\n",
       "11       3    male         1  22.274211     47   5.274972"
      ]
     },
     "execution_count": 11,
     "metadata": {},
     "output_type": "execute_result"
    }
   ],
   "source": [
    "titanic_groupby_class_sex"
   ]
  },
  {
   "cell_type": "markdown",
   "id": "a9ad8c4f",
   "metadata": {},
   "source": [
    "- Maximum number of woman were travling in first and 2nd class\n",
    "- 50-50 death and survive in women in 3rd class.\n",
    "- Maximum passenger were travelling in 3rd clas."
   ]
  },
  {
   "cell_type": "code",
   "execution_count": 12,
   "id": "4334ae91",
   "metadata": {},
   "outputs": [
    {
     "data": {
      "text/plain": [
       "<Axes: xlabel='Pclass', ylabel='Sex_pct'>"
      ]
     },
     "execution_count": 12,
     "metadata": {},
     "output_type": "execute_result"
    },
    {
     "data": {
      "image/png": "[encoded data removed]",
      "text/plain": [
       "<Figure size 640x480 with 1 Axes>"
      ]
     },
     "metadata": {},
     "output_type": "display_data"
    }
   ],
   "source": [
    "#bar plot to chcek class wise sex count\n",
    "sns.barplot(x = titanic_groupby_class_sex['Pclass'], y= titanic_groupby_class_sex['Sex_pct'],\n",
    "            hue = titanic_groupby_class_sex['Sex'])"
   ]
  },
  {
   "cell_type": "code",
   "execution_count": 13,
   "id": "a8807155",
   "metadata": {},
   "outputs": [
    {
     "data": {
      "text/plain": [
       "<Axes: xlabel='Sex', ylabel='Sex_pct'>"
      ]
     },
     "execution_count": 13,
     "metadata": {},
     "output_type": "execute_result"
    },
    {
     "data": {
      "image/png": "[encoded data removed]",
      "text/plain": [
       "<Figure size 640x480 with 1 Axes>"
      ]
     },
     "metadata": {},
     "output_type": "display_data"
    }
   ],
   "source": [
    "#bar plot between Sex, count and Survived\n",
    "sns.barplot(x = titanic_groupby_class_sex['Sex'], y= titanic_groupby_class_sex['Sex_pct'],\n",
    "            hue = titanic_groupby_class_sex['Survived'])"
   ]
  },
  {
   "cell_type": "code",
   "execution_count": 14,
   "id": "f32e17bb",
   "metadata": {},
   "outputs": [
    {
     "data": {
      "text/plain": [
       "<Axes: xlabel='Survived', ylabel='Age'>"
      ]
     },
     "execution_count": 14,
     "metadata": {},
     "output_type": "execute_result"
    },
    {
     "data": {
      "image/png": "[encoded data removed]",
      "text/plain": [
       "<Figure size 640x480 with 1 Axes>"
      ]
     },
     "metadata": {},
     "output_type": "display_data"
    }
   ],
   "source": [
    "#box plot bewteen Survived and age,\n",
    "\n",
    "sns.boxplot(data=titanic, x='Survived', y ='Age')"
   ]
  },
  {
   "cell_type": "markdown",
   "id": "278435b8",
   "metadata": {},
   "source": [
    "- Above graph shows that there is some outliers in male and female\n",
    "- Higher the age lesse the chance of Survival\n"
   ]
  },
  {
   "cell_type": "code",
   "execution_count": 15,
   "id": "ad3ddf0e",
   "metadata": {},
   "outputs": [
    {
     "data": {
      "image/png": "[encoded data removed]",
      "text/plain": [
       "<Figure size 640x480 with 1 Axes>"
      ]
     },
     "metadata": {},
     "output_type": "display_data"
    }
   ],
   "source": [
    "#kdeplot for the age\n",
    "fig, ax1 = plt.subplots()\n",
    "data = titanic[titanic['Survived'] == 0]\n",
    "data1= titanic[titanic['Survived'] == 1]\n",
    "sns.kdeplot(data = data, x = 'Age', ax=ax1, label = 'Age (not survived)' ,color= 'Orange' )\n",
    "#kdeplot for age and surviced\n",
    "sns.kdeplot(data = data1, x = 'Age', ax=ax1, label = 'Age (survived)',color= 'Blue')\n",
    "\n",
    "plt.title('Overall Sex KDEPlot')\n",
    "plt.legend()\n",
    "plt.show()\n"
   ]
  },
  {
   "cell_type": "markdown",
   "id": "25b60f14",
   "metadata": {},
   "source": [
    "- Probability of survival is lower that not survival in the age between 20 to 40\n",
    "- Probability of survival is high in case age is bewlo 20\n",
    "- For age more than 40 survival probsbility is more than the not survival\n",
    "\n",
    "**Need to check for Sexwise and classwiese distribution to understand why more than 40 got slight higher chance of survival**"
   ]
  },
  {
   "cell_type": "code",
   "execution_count": 16,
   "id": "1a25f4c1",
   "metadata": {},
   "outputs": [
    {
     "data": {
      "text/plain": [
       "Text(0.5, 1.0, 'Survived')"
      ]
     },
     "execution_count": 16,
     "metadata": {},
     "output_type": "execute_result"
    },
    {
     "data": {
      "image/png": "[encoded data removed]",
      "text/plain": [
       "<Figure size 1000x500 with 2 Axes>"
      ]
     },
     "metadata": {},
     "output_type": "display_data"
    }
   ],
   "source": [
    "#kde plot with sex as hue\n",
    "fig, (ax1, ax2) = plt.subplots(1,2, figsize=(10,5))\n",
    "sns.kdeplot(data = data, x = 'Age', hue = 'Sex', ax=ax1, color= 'Orange')\n",
    "ax1.set_title('Not Survived')\n",
    "#kdeplot for age and surviced\n",
    "sns.kdeplot(data = data1, x = 'Age', hue = 'Sex', ax=ax2, color= 'Orange' )\n",
    "ax2.set_title('Survived')"
   ]
  },
  {
   "cell_type": "markdown",
   "id": "013070e0",
   "metadata": {},
   "source": [
    "- Above graph shows that above 30 not survival goes down and survival is increased.\n"
   ]
  },
  {
   "cell_type": "code",
   "execution_count": 17,
   "id": "27cd236b",
   "metadata": {},
   "outputs": [
    {
     "data": {
      "text/plain": [
       "Text(0.5, 1.0, 'Survived')"
      ]
     },
     "execution_count": 17,
     "metadata": {},
     "output_type": "execute_result"
    },
    {
     "data": {
      "image/png": "[encoded data removed]",
      "text/plain": [
       "<Figure size 1000x500 with 2 Axes>"
      ]
     },
     "metadata": {},
     "output_type": "display_data"
    }
   ],
   "source": [
    "#kde plot with Pclass as hue\n",
    "fig, (ax1, ax2) = plt.subplots(1,2, figsize=(10,5))\n",
    "sns.kdeplot(data = data, x = 'Age', hue = 'Pclass', ax=ax1, color= 'Orange')\n",
    "ax1.set_title('Not Survived')\n",
    "#kdeplot for age and surviced\n",
    "sns.kdeplot(data = data1, x = 'Age', hue = 'Pclass', ax=ax2 ,color= 'Orange' )\n",
    "ax2.set_title('Survived')"
   ]
  },
  {
   "cell_type": "markdown",
   "id": "054f790c",
   "metadata": {},
   "source": [
    "### From above analysis it is noted that Sex, Age and Pclass are the most important factor for Survival. We will use stratified shuffle split in order to get the Sex and Class with same ratio of distribution"
   ]
  },
  {
   "cell_type": "code",
   "execution_count": 18,
   "id": "b4cfb923",
   "metadata": {},
   "outputs": [],
   "source": [
    "# train test split using StratifiedShuffleSplit\n",
    "titanic_df = titanic[['Age', 'Sex', 'Pclass', 'Survived']]\n",
    "from sklearn.model_selection import StratifiedShuffleSplit\n",
    "\n",
    "split = StratifiedShuffleSplit(n_splits = 1, test_size = .2, random_state = 42)\n",
    "for train_index, test_index in split.split(titanic_df,titanic_df[['Sex', 'Pclass']]):\n",
    "    X_train, X_test = titanic_df.drop('Survived', axis = 1).iloc[train_index], titanic_df.drop('Survived', axis = 1).iloc[test_index]\n",
    "    y_train, y_test = titanic_df['Survived'].iloc[train_index], titanic_df['Survived'].iloc[test_index]\n"
   ]
  },
  {
   "cell_type": "code",
   "execution_count": 19,
   "id": "5867d144",
   "metadata": {},
   "outputs": [
    {
     "name": "stdout",
     "output_type": "stream",
     "text": [
      "(712, 3)\n",
      "(891, 12)\n"
     ]
    }
   ],
   "source": [
    "print(X_train.shape)\n",
    "print(titanic.shape)"
   ]
  },
  {
   "cell_type": "code",
   "execution_count": 20,
   "id": "23b77f28",
   "metadata": {},
   "outputs": [
    {
     "data": {
      "text/plain": [
       "male      64.747191\n",
       "female    35.252809\n",
       "Name: Sex, dtype: float64"
      ]
     },
     "execution_count": 20,
     "metadata": {},
     "output_type": "execute_result"
    }
   ],
   "source": [
    "(X_train['Sex'].value_counts()/X_train.shape[0])*100"
   ]
  },
  {
   "cell_type": "code",
   "execution_count": 21,
   "id": "9cd79c5f",
   "metadata": {},
   "outputs": [
    {
     "data": {
      "text/plain": [
       "male      64.758698\n",
       "female    35.241302\n",
       "Name: Sex, dtype: float64"
      ]
     },
     "execution_count": 21,
     "metadata": {},
     "output_type": "execute_result"
    }
   ],
   "source": [
    "(titanic['Sex'].value_counts()/titanic.shape[0])*100"
   ]
  },
  {
   "cell_type": "code",
   "execution_count": 22,
   "id": "1396dde6",
   "metadata": {},
   "outputs": [],
   "source": [
    "X_train_num = X_train.drop('Sex', axis = 1)"
   ]
  },
  {
   "cell_type": "code",
   "execution_count": 23,
   "id": "aeea1cb4",
   "metadata": {},
   "outputs": [],
   "source": [
    "from sklearn.pipeline import Pipeline\n",
    "from sklearn.preprocessing import StandardScaler\n",
    "from sklearn.impute import SimpleImputer\n",
    "\n",
    "num_pipeline = Pipeline([ \n",
    "                        ('impute', SimpleImputer(strategy = \"median\")),\n",
    "                        ('std_scaler', StandardScaler())\n",
    "                ])\n",
    "titanic_num_pipe = num_pipeline.fit_transform(X_train_num)"
   ]
  },
  {
   "cell_type": "code",
   "execution_count": 24,
   "id": "d6edd007",
   "metadata": {},
   "outputs": [
    {
     "data": {
      "text/plain": [
       "array([[ 0.48467326, -1.56405658],\n",
       "       [ 2.43622768, -1.56405658],\n",
       "       [ 0.93503197, -0.36791449],\n",
       "       ...,\n",
       "       [-0.11580502,  0.8282276 ],\n",
       "       [-0.41604416, -0.36791449],\n",
       "       [ 1.38539069,  0.8282276 ]])"
      ]
     },
     "execution_count": 24,
     "metadata": {},
     "output_type": "execute_result"
    }
   ],
   "source": [
    "titanic_num_pipe"
   ]
  },
  {
   "cell_type": "code",
   "execution_count": 25,
   "id": "d013568f",
   "metadata": {},
   "outputs": [],
   "source": [
    "from sklearn.compose import ColumnTransformer\n",
    "from sklearn.preprocessing import OneHotEncoder\n",
    "\n",
    "def dataprep (df):\n",
    "    \"\"\"\n",
    "    Fuction will take input of a dataframe segregate categorical columns \n",
    "    and number columns and prepare the data for model training\n",
    "    \"\"\"\n",
    "    \n",
    "    df_num = df.drop('Sex', axis = 1)\n",
    "    num_attribs = list (df_num)\n",
    "    cat_attribute = ['Sex']\n",
    "\n",
    "    full_pipeline = ColumnTransformer ([\n",
    "        (\"num\",num_pipeline, num_attribs),\n",
    "        (\"cat\",OneHotEncoder(),cat_attribute)\n",
    "    ])\n",
    "    \n",
    "    df_prepared = full_pipeline.fit_transform(df)\n",
    "    return df_prepared\n",
    "    \n",
    "X_train_prepared = dataprep(X_train)\n",
    "X_test_prepared = dataprep(X_test)"
   ]
  },
  {
   "cell_type": "code",
   "execution_count": 26,
   "id": "d61bfda3",
   "metadata": {},
   "outputs": [
    {
     "data": {
      "text/plain": [
       "array([[ 0.48467326, -1.56405658,  1.        ,  0.        ],\n",
       "       [ 2.43622768, -1.56405658,  0.        ,  1.        ],\n",
       "       [ 0.93503197, -0.36791449,  0.        ,  1.        ],\n",
       "       ...,\n",
       "       [-0.11580502,  0.8282276 ,  0.        ,  1.        ],\n",
       "       [-0.41604416, -0.36791449,  1.        ,  0.        ],\n",
       "       [ 1.38539069,  0.8282276 ,  1.        ,  0.        ]])"
      ]
     },
     "execution_count": 26,
     "metadata": {},
     "output_type": "execute_result"
    }
   ],
   "source": [
    "X_train_prepared"
   ]
  },
  {
   "cell_type": "markdown",
   "id": "25c4c471",
   "metadata": {},
   "source": [
    "## Using Random forest Classifier"
   ]
  },
  {
   "cell_type": "code",
   "execution_count": 27,
   "id": "65438618",
   "metadata": {},
   "outputs": [],
   "source": [
    "# creating a RF classifier\n",
    "clf = RandomForestClassifier(n_estimators = 100) \n",
    "\n",
    "clf.fit(X_train_prepared, y_train)\n",
    "y_pred = clf.predict(X_test_prepared)"
   ]
  },
  {
   "cell_type": "code",
   "execution_count": 28,
   "id": "f3faf4e4",
   "metadata": {},
   "outputs": [
    {
     "name": "stdout",
     "output_type": "stream",
     "text": [
      "Accurecy of the model is:   0.776536312849162\n"
     ]
    }
   ],
   "source": [
    "print('Accurecy of the model is:  ', metrics.accuracy_score(y_test, y_pred))"
   ]
  },
  {
   "cell_type": "markdown",
   "id": "a412e847",
   "metadata": {},
   "source": [
    "# USing corss val score"
   ]
  },
  {
   "cell_type": "code",
   "execution_count": 29,
   "id": "39d418c0",
   "metadata": {},
   "outputs": [
    {
     "data": {
      "text/plain": [
       "array([0.875     , 0.84722222, 0.76056338, 0.87323944, 0.81690141,\n",
       "       0.8028169 , 0.83098592, 0.78873239, 0.83098592, 0.84507042])"
      ]
     },
     "execution_count": 29,
     "metadata": {},
     "output_type": "execute_result"
    }
   ],
   "source": [
    "scores = cross_val_score(clf, X_train_prepared, y_train,\n",
    "                         scoring=\"accuracy\", cv=10)\n",
    "scores"
   ]
  },
  {
   "cell_type": "code",
   "execution_count": 30,
   "id": "26af0fe8",
   "metadata": {},
   "outputs": [],
   "source": [
    "y_pred = cross_val_predict(clf, X_test_prepared, y_test, cv=10)"
   ]
  },
  {
   "cell_type": "code",
   "execution_count": 31,
   "id": "102ab395",
   "metadata": {},
   "outputs": [
    {
     "data": {
      "text/plain": [
       "array([[92, 17],\n",
       "       [30, 40]], dtype=int64)"
      ]
     },
     "execution_count": 31,
     "metadata": {},
     "output_type": "execute_result"
    }
   ],
   "source": [
    "confusion_metric = metrics.confusion_matrix(y_test, y_pred)\n",
    "confusion_metric"
   ]
  },
  {
   "cell_type": "code",
   "execution_count": 32,
   "id": "01455069",
   "metadata": {},
   "outputs": [
    {
     "data": {
      "text/plain": [
       "<Axes: >"
      ]
     },
     "execution_count": 32,
     "metadata": {},
     "output_type": "execute_result"
    },
    {
     "data": {
      "image/png": "[encoded data removed]",
      "text/plain": [
       "<Figure size 640x480 with 2 Axes>"
      ]
     },
     "metadata": {},
     "output_type": "display_data"
    }
   ],
   "source": [
    "sns.heatmap(confusion_metric, annot= True, cmap= 'Blues')"
   ]
  },
  {
   "cell_type": "markdown",
   "id": "198bc6c2",
   "metadata": {},
   "source": [
    "## Using complete training data for model training"
   ]
  },
  {
   "cell_type": "code",
   "execution_count": 33,
   "id": "df6a57c2",
   "metadata": {},
   "outputs": [],
   "source": [
    "#using complete training data for training\n",
    "\n",
    "X_train_df = titanic[['Age', 'Sex', 'Pclass']]\n",
    "Y_train_df = titanic['Survived']\n",
    "    \n",
    "X_train_prepared = dataprep(X_train_df)"
   ]
  },
  {
   "cell_type": "code",
   "execution_count": 34,
   "id": "31e8d632",
   "metadata": {},
   "outputs": [
    {
     "data": {
      "text/plain": [
       "array([0.76666667, 0.80898876, 0.7752809 , 0.84269663, 0.84269663,\n",
       "       0.82022472, 0.83146067, 0.80898876, 0.85393258, 0.79775281])"
      ]
     },
     "execution_count": 34,
     "metadata": {},
     "output_type": "execute_result"
    }
   ],
   "source": [
    "scores = cross_val_score(clf, X_train_prepared, Y_train_df,\n",
    "                         scoring=\"accuracy\", cv=10)\n",
    "scores"
   ]
  },
  {
   "cell_type": "markdown",
   "id": "b184b4d9",
   "metadata": {},
   "source": [
    "### Using complete test data for predction"
   ]
  },
  {
   "cell_type": "code",
   "execution_count": 35,
   "id": "885bef33",
   "metadata": {},
   "outputs": [],
   "source": [
    "titanic_test = pd.read_csv('./dataset/test.csv')\n",
    "titanic_survived = pd.read_csv('./dataset/gender_submission.csv')"
   ]
  },
  {
   "cell_type": "code",
   "execution_count": 36,
   "id": "9727ec9b",
   "metadata": {},
   "outputs": [],
   "source": [
    "titanic_test = titanic_test.merge(titanic_survived, on = ['PassengerId'])"
   ]
  },
  {
   "cell_type": "code",
   "execution_count": 37,
   "id": "ca2c41e6",
   "metadata": {},
   "outputs": [],
   "source": [
    "titanic_df_test = titanic_test[['Age', 'Sex', 'Pclass']]\n",
    "titanic_test_result = titanic_test['Survived']"
   ]
  },
  {
   "cell_type": "code",
   "execution_count": 38,
   "id": "55e5ed49",
   "metadata": {},
   "outputs": [],
   "source": [
    "X_test_prepared = dataprep(titanic_df_test)"
   ]
  },
  {
   "cell_type": "code",
   "execution_count": 39,
   "id": "ffa69c8f",
   "metadata": {},
   "outputs": [],
   "source": [
    "y_pred = clf.predict(X_test_prepared)"
   ]
  },
  {
   "cell_type": "code",
   "execution_count": 40,
   "id": "7f5ba8e8",
   "metadata": {},
   "outputs": [
    {
     "name": "stdout",
     "output_type": "stream",
     "text": [
      "[[176  90]\n",
      " [ 18 134]]\n",
      "Accurecy of the model is:   0.7416267942583732\n",
      "None\n"
     ]
    }
   ],
   "source": [
    "confusion_metric = metrics.confusion_matrix(titanic_test_result, y_pred)\n",
    "print(confusion_metric)\n",
    "print(print('Accurecy of the model is:  ', metrics.accuracy_score(titanic_test_result, y_pred)))"
   ]
  },
  {
   "cell_type": "code",
   "execution_count": 41,
   "id": "b5225ce9",
   "metadata": {},
   "outputs": [
    {
     "data": {
      "text/plain": [
       "<Axes: >"
      ]
     },
     "execution_count": 41,
     "metadata": {},
     "output_type": "execute_result"
    },
    {
     "data": {
      "image/png": "[encoded data removed]",
      "text/plain": [
       "<Figure size 640x480 with 2 Axes>"
      ]
     },
     "metadata": {},
     "output_type": "display_data"
    }
   ],
   "source": [
    "sns.heatmap(confusion_metric, annot= True, cmap= 'Blues', fmt='g')"
   ]
  },
  {
   "cell_type": "markdown",
   "id": "c20da442",
   "metadata": {},
   "source": [
    "## Above model shows very poor accurecy and performance. Now we will check for each column and analyze the data. Basis analysis we will prepare the features"
   ]
  },
  {
   "cell_type": "markdown",
   "id": "5315fcc5",
   "metadata": {},
   "source": [
    "### Removing outliers from age column"
   ]
  },
  {
   "cell_type": "code",
   "execution_count": 42,
   "id": "69c96fd1",
   "metadata": {},
   "outputs": [],
   "source": [
    "def outliers(titanic, params:[]):\n",
    "    \"\"\"\n",
    "    This fuction will detect and remove the outliers where it is more than Q3 and less than Q1 by 1.5times of IQR.\n",
    "\n",
    "    \"\"\"\n",
    "    titanic_copy = titanic.copy()\n",
    "    for param in params:\n",
    "        Q1 = titanic_copy[param].quantile(.25)\n",
    "        Q3 = titanic_copy[param].quantile(.75)\n",
    "\n",
    "        IQR = Q3 - Q1\n",
    "        upper = Q3 + 1.5*IQR\n",
    "        lower = Q1 - 1.5*IQR\n",
    "\n",
    "        upper_arr = np.where(titanic_copy[param] >= upper)[0]\n",
    "        lower_arr = np.where(titanic_copy[param] <= lower)[0]\n",
    "        titanic_copy = titanic_copy.drop(index=upper_arr)\n",
    "        titanic_copy = titanic_copy.drop(index=lower_arr)\n",
    "        titanic_copy = titanic_copy.reset_index()\n",
    "        titanic_copy = titanic_copy.drop('index',axis = 1)\n",
    "\n",
    "    return titanic_copy"
   ]
  },
  {
   "cell_type": "code",
   "execution_count": 43,
   "id": "a9e10920",
   "metadata": {},
   "outputs": [],
   "source": [
    "titanic_copy = outliers(titanic, ['Age'])"
   ]
  },
  {
   "cell_type": "code",
   "execution_count": 44,
   "id": "24258d1a",
   "metadata": {},
   "outputs": [],
   "source": [
    "# There is no patern to understand the NaN values of the Cabin. Thus we will fill 0 for NaN and if Cabin is present we will mark as 1\n",
    "titanic_copy.loc[titanic_copy['Cabin'].isna() == False, 'Cabin'] = 1\n",
    "titanic_copy.loc[titanic_copy['Cabin'].isna() == True, 'Cabin'] = 0\n",
    "titanic_copy['Cabin'] = titanic_copy['Cabin'].astype(int)"
   ]
  },
  {
   "cell_type": "code",
   "execution_count": 45,
   "id": "274dab4a",
   "metadata": {},
   "outputs": [
    {
     "name": "stdout",
     "output_type": "stream",
     "text": [
      "<class 'pandas.core.frame.DataFrame'>\n",
      "RangeIndex: 880 entries, 0 to 879\n",
      "Data columns (total 12 columns):\n",
      " #   Column       Non-Null Count  Dtype  \n",
      "---  ------       --------------  -----  \n",
      " 0   PassengerId  880 non-null    int64  \n",
      " 1   Survived     880 non-null    int64  \n",
      " 2   Pclass       880 non-null    int64  \n",
      " 3   Name         880 non-null    object \n",
      " 4   Sex          880 non-null    object \n",
      " 5   Age          703 non-null    float64\n",
      " 6   SibSp        880 non-null    int64  \n",
      " 7   Parch        880 non-null    int64  \n",
      " 8   Ticket       880 non-null    object \n",
      " 9   Fare         880 non-null    float64\n",
      " 10  Cabin        880 non-null    int32  \n",
      " 11  Embarked     878 non-null    object \n",
      "dtypes: float64(2), int32(1), int64(5), object(4)\n",
      "memory usage: 79.2+ KB\n"
     ]
    }
   ],
   "source": [
    "titanic_copy.info()"
   ]
  },
  {
   "cell_type": "code",
   "execution_count": 46,
   "id": "e0923d16",
   "metadata": {},
   "outputs": [
    {
     "data": {
      "text/plain": [
       "<Axes: xlabel='Survived', ylabel='Age'>"
      ]
     },
     "execution_count": 46,
     "metadata": {},
     "output_type": "execute_result"
    },
    {
     "data": {
      "image/png": "[encoded data removed]",
      "text/plain": [
       "<Figure size 640x480 with 1 Axes>"
      ]
     },
     "metadata": {},
     "output_type": "display_data"
    }
   ],
   "source": [
    "sns.boxplot(data = titanic_copy, y='Age', x = 'Survived' )"
   ]
  },
  {
   "cell_type": "code",
   "execution_count": 47,
   "id": "3ac2eaa8",
   "metadata": {},
   "outputs": [
    {
     "name": "stdout",
     "output_type": "stream",
     "text": [
      "<class 'pandas.core.frame.DataFrame'>\n",
      "RangeIndex: 880 entries, 0 to 879\n",
      "Data columns (total 12 columns):\n",
      " #   Column       Non-Null Count  Dtype  \n",
      "---  ------       --------------  -----  \n",
      " 0   PassengerId  880 non-null    int64  \n",
      " 1   Survived     880 non-null    int64  \n",
      " 2   Pclass       880 non-null    int64  \n",
      " 3   Name         880 non-null    object \n",
      " 4   Sex          880 non-null    object \n",
      " 5   Age          703 non-null    float64\n",
      " 6   SibSp        880 non-null    int64  \n",
      " 7   Parch        880 non-null    int64  \n",
      " 8   Ticket       880 non-null    object \n",
      " 9   Fare         880 non-null    float64\n",
      " 10  Cabin        880 non-null    int32  \n",
      " 11  Embarked     878 non-null    object \n",
      "dtypes: float64(2), int32(1), int64(5), object(4)\n",
      "memory usage: 79.2+ KB\n"
     ]
    }
   ],
   "source": [
    "titanic_copy.info()"
   ]
  },
  {
   "cell_type": "code",
   "execution_count": 48,
   "id": "77563e8e",
   "metadata": {},
   "outputs": [
    {
     "data": {
      "text/plain": [
       "(891, 12)"
      ]
     },
     "execution_count": 48,
     "metadata": {},
     "output_type": "execute_result"
    }
   ],
   "source": [
    "titanic.shape"
   ]
  },
  {
   "cell_type": "markdown",
   "id": "3b11f493",
   "metadata": {},
   "source": [
    "### Check fare column"
   ]
  },
  {
   "cell_type": "code",
   "execution_count": 49,
   "id": "af93f22c",
   "metadata": {},
   "outputs": [
    {
     "data": {
      "text/plain": [
       "<matplotlib.legend.Legend at 0x1a20e420f90>"
      ]
     },
     "execution_count": 49,
     "metadata": {},
     "output_type": "execute_result"
    },
    {
     "data": {
      "image/png": "[encoded data removed]",
      "text/plain": [
       "<Figure size 640x480 with 1 Axes>"
      ]
     },
     "metadata": {},
     "output_type": "display_data"
    }
   ],
   "source": [
    "sns.kdeplot(data = titanic_copy['Fare'], label = 'Skewness %.2f'%(titanic_copy['Fare'].skew()))\n",
    "plt.legend()"
   ]
  },
  {
   "cell_type": "code",
   "execution_count": 50,
   "id": "8e133007",
   "metadata": {},
   "outputs": [
    {
     "data": {
      "text/plain": [
       "<Axes: xlabel='Survived', ylabel='Fare'>"
      ]
     },
     "execution_count": 50,
     "metadata": {},
     "output_type": "execute_result"
    },
    {
     "data": {
      "image/png": "[encoded data removed]",
      "text/plain": [
       "<Figure size 640x480 with 1 Axes>"
      ]
     },
     "metadata": {},
     "output_type": "display_data"
    }
   ],
   "source": [
    "sns.boxplot(data=titanic_copy, x = \"Survived\", y= \"Fare\")"
   ]
  },
  {
   "cell_type": "markdown",
   "id": "0accfc6d",
   "metadata": {},
   "source": [
    "#### Above graph shows that there is one outlier."
   ]
  },
  {
   "cell_type": "code",
   "execution_count": 51,
   "id": "8f18397e",
   "metadata": {},
   "outputs": [],
   "source": [
    "titanic_copy.drop(index=titanic_copy['Fare'].idxmax(), inplace= True) # removing the highest value\n",
    "titanic_copy['Fare'] = titanic_copy['Fare'].map(lambda x: np.log(x) if x > 0 else 0) #use log transformation to reduce the skewness"
   ]
  },
  {
   "cell_type": "code",
   "execution_count": 52,
   "id": "3b481009",
   "metadata": {},
   "outputs": [
    {
     "data": {
      "text/plain": [
       "<matplotlib.legend.Legend at 0x1a2088eb810>"
      ]
     },
     "execution_count": 52,
     "metadata": {},
     "output_type": "execute_result"
    },
    {
     "data": {
      "image/png": "[encoded data removed]",
      "text/plain": [
       "<Figure size 640x480 with 1 Axes>"
      ]
     },
     "metadata": {},
     "output_type": "display_data"
    }
   ],
   "source": [
    "sns.kdeplot(data = titanic_copy['Fare'], label = 'Skewness %.2f'%(titanic_copy['Fare'].skew()))\n",
    "plt.legend()"
   ]
  },
  {
   "cell_type": "markdown",
   "id": "64a391df",
   "metadata": {},
   "source": [
    "### Title Column\n",
    "- Extracting the title from name column"
   ]
  },
  {
   "cell_type": "code",
   "execution_count": 53,
   "id": "0d3f0132",
   "metadata": {},
   "outputs": [],
   "source": [
    "titanic_copy['Title'] = [name.split(',')[1].split('.')[0].strip() for name in titanic_copy['Name']]"
   ]
  },
  {
   "cell_type": "code",
   "execution_count": 54,
   "id": "e7650543",
   "metadata": {},
   "outputs": [
    {
     "data": {
      "text/plain": [
       "Mr              507\n",
       "Miss            181\n",
       "Mrs             125\n",
       "Master           40\n",
       "Dr                7\n",
       "Rev               6\n",
       "Major             2\n",
       "Mlle              2\n",
       "Col               2\n",
       "Don               1\n",
       "Mme               1\n",
       "Ms                1\n",
       "Lady              1\n",
       "Sir               1\n",
       "the Countess      1\n",
       "Jonkheer          1\n",
       "Name: Title, dtype: int64"
      ]
     },
     "execution_count": 54,
     "metadata": {},
     "output_type": "execute_result"
    }
   ],
   "source": [
    "titanic_copy['Title'].value_counts()"
   ]
  },
  {
   "cell_type": "code",
   "execution_count": 55,
   "id": "af7bd387",
   "metadata": {},
   "outputs": [],
   "source": [
    "#replacing the Title which occure less number of times\n",
    "titanic_copy['Title'] = titanic_copy['Title'].replace(['Dr','Rev','Major','Col',\n",
    "                                                       'Don','Lady','Sir','the Countess','Jonkheer'], 'Rare')\n",
    "titanic_copy['Title'] = titanic_copy['Title'].replace(['Mlle','Ms'], 'Miss')\n",
    "titanic_copy['Title'] = titanic_copy['Title'].replace(['Mme'], 'Mrs')"
   ]
  },
  {
   "cell_type": "code",
   "execution_count": 56,
   "id": "56ebf104",
   "metadata": {},
   "outputs": [
    {
     "data": {
      "text/plain": [
       "Mr        507\n",
       "Miss      184\n",
       "Mrs       126\n",
       "Master     40\n",
       "Rare       22\n",
       "Name: Title, dtype: int64"
      ]
     },
     "execution_count": 56,
     "metadata": {},
     "output_type": "execute_result"
    }
   ],
   "source": [
    "titanic_copy['Title'].value_counts()"
   ]
  },
  {
   "cell_type": "code",
   "execution_count": 57,
   "id": "9a8e42be",
   "metadata": {},
   "outputs": [
    {
     "data": {
      "text/html": [
       "<div>\n",
       "<style scoped>\n",
       "    .dataframe tbody tr th:only-of-type {\n",
       "        vertical-align: middle;\n",
       "    }\n",
       "\n",
       "    .dataframe tbody tr th {\n",
       "        vertical-align: top;\n",
       "    }\n",
       "\n",
       "    .dataframe thead th {\n",
       "        text-align: right;\n",
       "    }\n",
       "</style>\n",
       "<table border=\"1\" class=\"dataframe\">\n",
       "  <thead>\n",
       "    <tr style=\"text-align: right;\">\n",
       "      <th></th>\n",
       "      <th>Title</th>\n",
       "      <th>Survived</th>\n",
       "    </tr>\n",
       "  </thead>\n",
       "  <tbody>\n",
       "    <tr>\n",
       "      <th>3</th>\n",
       "      <td>Mrs</td>\n",
       "      <td>0.793651</td>\n",
       "    </tr>\n",
       "    <tr>\n",
       "      <th>1</th>\n",
       "      <td>Miss</td>\n",
       "      <td>0.701087</td>\n",
       "    </tr>\n",
       "    <tr>\n",
       "      <th>0</th>\n",
       "      <td>Master</td>\n",
       "      <td>0.575000</td>\n",
       "    </tr>\n",
       "    <tr>\n",
       "      <th>4</th>\n",
       "      <td>Rare</td>\n",
       "      <td>0.363636</td>\n",
       "    </tr>\n",
       "    <tr>\n",
       "      <th>2</th>\n",
       "      <td>Mr</td>\n",
       "      <td>0.157791</td>\n",
       "    </tr>\n",
       "  </tbody>\n",
       "</table>\n",
       "</div>"
      ],
      "text/plain": [
       "    Title  Survived\n",
       "3     Mrs  0.793651\n",
       "1    Miss  0.701087\n",
       "0  Master  0.575000\n",
       "4    Rare  0.363636\n",
       "2      Mr  0.157791"
      ]
     },
     "execution_count": 57,
     "metadata": {},
     "output_type": "execute_result"
    }
   ],
   "source": [
    "titanic_copy[['Title','Survived']].groupby('Title', as_index= False).mean().sort_values(by ='Survived',ascending = False)"
   ]
  },
  {
   "cell_type": "code",
   "execution_count": 58,
   "id": "8ad03a25",
   "metadata": {},
   "outputs": [
    {
     "data": {
      "text/plain": [
       "<seaborn.axisgrid.FacetGrid at 0x1a20d5a2810>"
      ]
     },
     "execution_count": 58,
     "metadata": {},
     "output_type": "execute_result"
    },
    {
     "data": {
      "image/png": "[encoded data removed]",
      "text/plain": [
       "<Figure size 500x500 with 1 Axes>"
      ]
     },
     "metadata": {},
     "output_type": "display_data"
    }
   ],
   "source": [
    "sns.catplot(x = 'Title', y = 'Survived', data = titanic_copy, kind = 'bar')"
   ]
  },
  {
   "cell_type": "code",
   "execution_count": 59,
   "id": "70e2ce17",
   "metadata": {},
   "outputs": [],
   "source": [
    "titanic_copy.drop(['PassengerId', 'Name', 'Ticket'], axis = 1, inplace= True)"
   ]
  },
  {
   "cell_type": "code",
   "execution_count": 60,
   "id": "e14ad8cf",
   "metadata": {},
   "outputs": [
    {
     "data": {
      "text/html": [
       "<div>\n",
       "<style scoped>\n",
       "    .dataframe tbody tr th:only-of-type {\n",
       "        vertical-align: middle;\n",
       "    }\n",
       "\n",
       "    .dataframe tbody tr th {\n",
       "        vertical-align: top;\n",
       "    }\n",
       "\n",
       "    .dataframe thead th {\n",
       "        text-align: right;\n",
       "    }\n",
       "</style>\n",
       "<table border=\"1\" class=\"dataframe\">\n",
       "  <thead>\n",
       "    <tr style=\"text-align: right;\">\n",
       "      <th></th>\n",
       "      <th>Survived</th>\n",
       "      <th>Pclass</th>\n",
       "      <th>Sex</th>\n",
       "      <th>Age</th>\n",
       "      <th>SibSp</th>\n",
       "      <th>Parch</th>\n",
       "      <th>Fare</th>\n",
       "      <th>Cabin</th>\n",
       "      <th>Embarked</th>\n",
       "      <th>Title</th>\n",
       "    </tr>\n",
       "  </thead>\n",
       "  <tbody>\n",
       "    <tr>\n",
       "      <th>0</th>\n",
       "      <td>0</td>\n",
       "      <td>3</td>\n",
       "      <td>male</td>\n",
       "      <td>22.0</td>\n",
       "      <td>1</td>\n",
       "      <td>0</td>\n",
       "      <td>1.981001</td>\n",
       "      <td>0</td>\n",
       "      <td>S</td>\n",
       "      <td>Mr</td>\n",
       "    </tr>\n",
       "    <tr>\n",
       "      <th>1</th>\n",
       "      <td>1</td>\n",
       "      <td>1</td>\n",
       "      <td>female</td>\n",
       "      <td>38.0</td>\n",
       "      <td>1</td>\n",
       "      <td>0</td>\n",
       "      <td>4.266662</td>\n",
       "      <td>1</td>\n",
       "      <td>C</td>\n",
       "      <td>Mrs</td>\n",
       "    </tr>\n",
       "    <tr>\n",
       "      <th>2</th>\n",
       "      <td>1</td>\n",
       "      <td>3</td>\n",
       "      <td>female</td>\n",
       "      <td>26.0</td>\n",
       "      <td>0</td>\n",
       "      <td>0</td>\n",
       "      <td>2.070022</td>\n",
       "      <td>0</td>\n",
       "      <td>S</td>\n",
       "      <td>Miss</td>\n",
       "    </tr>\n",
       "    <tr>\n",
       "      <th>3</th>\n",
       "      <td>1</td>\n",
       "      <td>1</td>\n",
       "      <td>female</td>\n",
       "      <td>35.0</td>\n",
       "      <td>1</td>\n",
       "      <td>0</td>\n",
       "      <td>3.972177</td>\n",
       "      <td>1</td>\n",
       "      <td>S</td>\n",
       "      <td>Mrs</td>\n",
       "    </tr>\n",
       "    <tr>\n",
       "      <th>4</th>\n",
       "      <td>0</td>\n",
       "      <td>3</td>\n",
       "      <td>male</td>\n",
       "      <td>35.0</td>\n",
       "      <td>0</td>\n",
       "      <td>0</td>\n",
       "      <td>2.085672</td>\n",
       "      <td>0</td>\n",
       "      <td>S</td>\n",
       "      <td>Mr</td>\n",
       "    </tr>\n",
       "  </tbody>\n",
       "</table>\n",
       "</div>"
      ],
      "text/plain": [
       "   Survived  Pclass     Sex   Age  SibSp  Parch      Fare  Cabin Embarked  \\\n",
       "0         0       3    male  22.0      1      0  1.981001      0        S   \n",
       "1         1       1  female  38.0      1      0  4.266662      1        C   \n",
       "2         1       3  female  26.0      0      0  2.070022      0        S   \n",
       "3         1       1  female  35.0      1      0  3.972177      1        S   \n",
       "4         0       3    male  35.0      0      0  2.085672      0        S   \n",
       "\n",
       "  Title  \n",
       "0    Mr  \n",
       "1   Mrs  \n",
       "2  Miss  \n",
       "3   Mrs  \n",
       "4    Mr  "
      ]
     },
     "execution_count": 60,
     "metadata": {},
     "output_type": "execute_result"
    }
   ],
   "source": [
    "titanic_copy.head()"
   ]
  },
  {
   "cell_type": "markdown",
   "id": "c0732b49",
   "metadata": {},
   "source": [
    "### IsAlone Column\n",
    "- it will checked whether a passenger was alone(0) or travelling with family(1)."
   ]
  },
  {
   "cell_type": "code",
   "execution_count": 61,
   "id": "6d38f70e",
   "metadata": {},
   "outputs": [],
   "source": [
    "def isalone(df):\n",
    "    \"\"\"\n",
    "    This fuction will create a column name IsAlone and verify whether a passanger was travelling alone or with family\n",
    "    \"\"\"\n",
    "    df['Family'] = df['SibSp'] + df['Parch'] + 1\n",
    "    df['IsAlone'] = 0\n",
    "    \n",
    "    df.loc[df['Family']==1, 'IsAlone'] = 0\n",
    "    df.loc[df['Family'] > 1, 'IsAlone'] = 1\n",
    "    \n",
    "    return df\n",
    "    "
   ]
  },
  {
   "cell_type": "code",
   "execution_count": 62,
   "id": "05fb12dc",
   "metadata": {},
   "outputs": [],
   "source": [
    "titanic_copy = isalone(titanic_copy)"
   ]
  },
  {
   "cell_type": "code",
   "execution_count": 63,
   "id": "dfc61bd5",
   "metadata": {},
   "outputs": [],
   "source": [
    "titanic_copy.drop(['SibSp', 'Parch', 'Family'], axis = 1, inplace=True)"
   ]
  },
  {
   "cell_type": "code",
   "execution_count": 64,
   "id": "e4403126",
   "metadata": {},
   "outputs": [
    {
     "data": {
      "text/html": [
       "<div>\n",
       "<style scoped>\n",
       "    .dataframe tbody tr th:only-of-type {\n",
       "        vertical-align: middle;\n",
       "    }\n",
       "\n",
       "    .dataframe tbody tr th {\n",
       "        vertical-align: top;\n",
       "    }\n",
       "\n",
       "    .dataframe thead th {\n",
       "        text-align: right;\n",
       "    }\n",
       "</style>\n",
       "<table border=\"1\" class=\"dataframe\">\n",
       "  <thead>\n",
       "    <tr style=\"text-align: right;\">\n",
       "      <th></th>\n",
       "      <th>Survived</th>\n",
       "      <th>Pclass</th>\n",
       "      <th>Sex</th>\n",
       "      <th>Age</th>\n",
       "      <th>Fare</th>\n",
       "      <th>Cabin</th>\n",
       "      <th>Embarked</th>\n",
       "      <th>Title</th>\n",
       "      <th>IsAlone</th>\n",
       "    </tr>\n",
       "  </thead>\n",
       "  <tbody>\n",
       "    <tr>\n",
       "      <th>0</th>\n",
       "      <td>0</td>\n",
       "      <td>3</td>\n",
       "      <td>male</td>\n",
       "      <td>22.0</td>\n",
       "      <td>1.981001</td>\n",
       "      <td>0</td>\n",
       "      <td>S</td>\n",
       "      <td>Mr</td>\n",
       "      <td>1</td>\n",
       "    </tr>\n",
       "    <tr>\n",
       "      <th>1</th>\n",
       "      <td>1</td>\n",
       "      <td>1</td>\n",
       "      <td>female</td>\n",
       "      <td>38.0</td>\n",
       "      <td>4.266662</td>\n",
       "      <td>1</td>\n",
       "      <td>C</td>\n",
       "      <td>Mrs</td>\n",
       "      <td>1</td>\n",
       "    </tr>\n",
       "    <tr>\n",
       "      <th>2</th>\n",
       "      <td>1</td>\n",
       "      <td>3</td>\n",
       "      <td>female</td>\n",
       "      <td>26.0</td>\n",
       "      <td>2.070022</td>\n",
       "      <td>0</td>\n",
       "      <td>S</td>\n",
       "      <td>Miss</td>\n",
       "      <td>0</td>\n",
       "    </tr>\n",
       "    <tr>\n",
       "      <th>3</th>\n",
       "      <td>1</td>\n",
       "      <td>1</td>\n",
       "      <td>female</td>\n",
       "      <td>35.0</td>\n",
       "      <td>3.972177</td>\n",
       "      <td>1</td>\n",
       "      <td>S</td>\n",
       "      <td>Mrs</td>\n",
       "      <td>1</td>\n",
       "    </tr>\n",
       "    <tr>\n",
       "      <th>4</th>\n",
       "      <td>0</td>\n",
       "      <td>3</td>\n",
       "      <td>male</td>\n",
       "      <td>35.0</td>\n",
       "      <td>2.085672</td>\n",
       "      <td>0</td>\n",
       "      <td>S</td>\n",
       "      <td>Mr</td>\n",
       "      <td>0</td>\n",
       "    </tr>\n",
       "  </tbody>\n",
       "</table>\n",
       "</div>"
      ],
      "text/plain": [
       "   Survived  Pclass     Sex   Age      Fare  Cabin Embarked Title  IsAlone\n",
       "0         0       3    male  22.0  1.981001      0        S    Mr        1\n",
       "1         1       1  female  38.0  4.266662      1        C   Mrs        1\n",
       "2         1       3  female  26.0  2.070022      0        S  Miss        0\n",
       "3         1       1  female  35.0  3.972177      1        S   Mrs        1\n",
       "4         0       3    male  35.0  2.085672      0        S    Mr        0"
      ]
     },
     "execution_count": 64,
     "metadata": {},
     "output_type": "execute_result"
    }
   ],
   "source": [
    "titanic_copy.head()"
   ]
  },
  {
   "cell_type": "markdown",
   "id": "4b2ad455",
   "metadata": {},
   "source": [
    "### Filling NaN values of Age Column"
   ]
  },
  {
   "cell_type": "code",
   "execution_count": 65,
   "id": "1f4e7539",
   "metadata": {},
   "outputs": [],
   "source": [
    "df_age_avg = titanic_copy.groupby(['Pclass', 'Sex', 'Survived', 'Title']).agg({'Age' : 'mean'}).reset_index()"
   ]
  },
  {
   "cell_type": "code",
   "execution_count": 66,
   "id": "ce5cae32",
   "metadata": {},
   "outputs": [],
   "source": [
    "df_age_avg['Concate'] = df_age_avg['Sex'] + df_age_avg['Title']"
   ]
  },
  {
   "cell_type": "code",
   "execution_count": 67,
   "id": "67f9db26",
   "metadata": {},
   "outputs": [
    {
     "name": "stderr",
     "output_type": "stream",
     "text": [
      "C:\\Users\\sayan\\AppData\\Local\\Temp\\ipykernel_14540\\1866893911.py:3: SettingWithCopyWarning: \n",
      "A value is trying to be set on a copy of a slice from a DataFrame\n",
      "\n",
      "See the caveats in the documentation: https://pandas.pydata.org/pandas-docs/stable/user_guide/indexing.html#returning-a-view-versus-a-copy\n",
      "  df_age_avg['Concate'][i] = df_age_avg['Concate'][i] + str(df_age_avg['Pclass'][i]) + str(df_age_avg['Survived'][i])\n"
     ]
    }
   ],
   "source": [
    "avg_age = {}\n",
    "for i in range(df_age_avg.shape[0]):\n",
    "    df_age_avg['Concate'][i] = df_age_avg['Concate'][i] + str(df_age_avg['Pclass'][i]) + str(df_age_avg['Survived'][i])\n",
    "    avg_age[df_age_avg['Concate'][i]] = df_age_avg['Age'][i]"
   ]
  },
  {
   "cell_type": "code",
   "execution_count": 68,
   "id": "d3ca6217",
   "metadata": {},
   "outputs": [
    {
     "data": {
      "text/plain": [
       "{'femaleMiss10': 26.0,\n",
       " 'femaleMrs10': 25.0,\n",
       " 'femaleMiss11': 29.795454545454547,\n",
       " 'femaleMrs11': 40.85294117647059,\n",
       " 'femaleRare11': 43.333333333333336,\n",
       " 'maleMr10': 42.166666666666664,\n",
       " 'maleRare10': 45.4,\n",
       " 'maleMaster11': 5.306666666666667,\n",
       " 'maleMr11': 35.96774193548387,\n",
       " 'maleRare11': 47.8,\n",
       " 'femaleMiss20': 31.0,\n",
       " 'femaleMrs20': 38.5,\n",
       " 'femaleMiss21': 22.016129032258064,\n",
       " 'femaleMrs21': 33.16216216216216,\n",
       " 'maleMr20': 31.5,\n",
       " 'maleRare20': 42.0,\n",
       " 'maleMaster21': 2.2588888888888885,\n",
       " 'maleMr21': 36.666666666666664,\n",
       " 'femaleMiss30': 17.81081081081081,\n",
       " 'femaleMrs30': 36.166666666666664,\n",
       " 'femaleMiss31': 14.171875,\n",
       " 'femaleMrs31': 30.333333333333332,\n",
       " 'maleMaster30': 5.4,\n",
       " 'maleMr30': 28.271573604060915,\n",
       " 'maleMaster31': 5.268888888888889,\n",
       " 'maleMr31': 27.551724137931036}"
      ]
     },
     "execution_count": 68,
     "metadata": {},
     "output_type": "execute_result"
    }
   ],
   "source": [
    "avg_age"
   ]
  },
  {
   "cell_type": "code",
   "execution_count": 69,
   "id": "56301f6b",
   "metadata": {},
   "outputs": [
    {
     "name": "stderr",
     "output_type": "stream",
     "text": [
      "C:\\Users\\sayan\\AppData\\Local\\Temp\\ipykernel_14540\\2572890239.py:9: SettingWithCopyWarning: \n",
      "A value is trying to be set on a copy of a slice from a DataFrame\n",
      "\n",
      "See the caveats in the documentation: https://pandas.pydata.org/pandas-docs/stable/user_guide/indexing.html#returning-a-view-versus-a-copy\n",
      "  titanic_copy['Concate'][i] = titanic_copy['Concate'][i] + str(titanic_copy['Pclass'][i]) + str(titanic_copy['Survived'][i])\n",
      "C:\\Users\\sayan\\AppData\\Local\\Temp\\ipykernel_14540\\2572890239.py:11: SettingWithCopyWarning: \n",
      "A value is trying to be set on a copy of a slice from a DataFrame\n",
      "\n",
      "See the caveats in the documentation: https://pandas.pydata.org/pandas-docs/stable/user_guide/indexing.html#returning-a-view-versus-a-copy\n",
      "  titanic_copy['Age'][i] = avg_age.get(titanic_copy['Concate'][i])\n"
     ]
    },
    {
     "name": "stdout",
     "output_type": "stream",
     "text": [
      "\"['Concate'] not found in axis\"\n"
     ]
    }
   ],
   "source": [
    "try:\n",
    "    titanic_copy.drop(['Concate'], axis=1, inplace=True)\n",
    "except Exception as e:\n",
    "    print(e)\n",
    "titanic_copy.reset_index(drop=True, inplace=True)\n",
    "titanic_copy['Concate'] = titanic_copy['Sex'] + titanic_copy['Title']\n",
    "for i in range(titanic_copy.shape[0]):\n",
    "    \n",
    "    titanic_copy['Concate'][i] = titanic_copy['Concate'][i] + str(titanic_copy['Pclass'][i]) + str(titanic_copy['Survived'][i])\n",
    "    if pd.isna(titanic_copy.loc[i, 'Age']):\n",
    "        titanic_copy['Age'][i] = avg_age.get(titanic_copy['Concate'][i])"
   ]
  },
  {
   "cell_type": "code",
   "execution_count": 70,
   "id": "35804b4d",
   "metadata": {},
   "outputs": [],
   "source": [
    "titanic_copy.drop(['Concate'], axis=1, inplace=True)"
   ]
  },
  {
   "cell_type": "markdown",
   "id": "1feb2bee",
   "metadata": {},
   "source": [
    "### Creating Age_group and Fare_group column"
   ]
  },
  {
   "cell_type": "code",
   "execution_count": 71,
   "id": "478f0b93",
   "metadata": {},
   "outputs": [
    {
     "data": {
      "text/plain": [
       "(25.852, 38.568]    349\n",
       "(13.136, 25.852]    265\n",
       "(38.568, 51.284]    144\n",
       "(0.356, 13.136]      75\n",
       "(51.284, 64.0]       46\n",
       "Name: Age, dtype: int64"
      ]
     },
     "execution_count": 71,
     "metadata": {},
     "output_type": "execute_result"
    }
   ],
   "source": [
    "pd.cut(titanic_copy.Age, 5).value_counts(sort = True)"
   ]
  },
  {
   "cell_type": "code",
   "execution_count": 72,
   "id": "3932ae43",
   "metadata": {},
   "outputs": [],
   "source": [
    "titanic_copy.loc[titanic_copy['Age']<=13.136 , 'Age'] = 0\n",
    "titanic_copy.loc[(titanic_copy['Age']>13.136) & (titanic_copy['Age']<=25.852) , 'Age'] = 1\n",
    "titanic_copy.loc[(titanic_copy['Age']>25.852) & (titanic_copy['Age']<=38.568) , 'Age'] = 2\n",
    "titanic_copy.loc[(titanic_copy['Age']>38.568) & (titanic_copy['Age']<=51.284) , 'Age'] = 3\n",
    "titanic_copy.loc[(titanic_copy['Age']>51.284) , 'Age'] = 4\n",
    "titanic_copy['Age'] = titanic_copy['Age'].astype(int)"
   ]
  },
  {
   "cell_type": "code",
   "execution_count": 73,
   "id": "41b7ceec",
   "metadata": {},
   "outputs": [],
   "source": [
    "# grouping Fare column\n",
    "\n",
    "titanic_copy['Fare_group'] = pd.cut(titanic_copy.Fare, 4)"
   ]
  },
  {
   "cell_type": "code",
   "execution_count": 74,
   "id": "ac4928b7",
   "metadata": {},
   "outputs": [
    {
     "data": {
      "text/plain": [
       "(1.56, 3.119]       518\n",
       "(3.119, 4.679]      295\n",
       "(4.679, 6.239]       50\n",
       "(-0.00624, 1.56]     16\n",
       "Name: Fare_group, dtype: int64"
      ]
     },
     "execution_count": 74,
     "metadata": {},
     "output_type": "execute_result"
    }
   ],
   "source": [
    "titanic_copy['Fare_group'].value_counts(dropna=False)"
   ]
  },
  {
   "cell_type": "code",
   "execution_count": 75,
   "id": "45bd1885",
   "metadata": {},
   "outputs": [],
   "source": [
    "titanic_copy.loc[titanic_copy['Fare']<=1.56 , 'Fare'] = 0\n",
    "titanic_copy.loc[(titanic_copy['Fare']>1.56) & (titanic_copy['Fare']<=3.119) , 'Fare'] = 1\n",
    "titanic_copy.loc[(titanic_copy['Fare']>3.119) & (titanic_copy['Fare']<=4.679) , 'Fare'] = 2\n",
    "titanic_copy.loc[(titanic_copy['Fare']>4.679) , 'Fare'] = 3"
   ]
  },
  {
   "cell_type": "code",
   "execution_count": 76,
   "id": "898acf58",
   "metadata": {},
   "outputs": [],
   "source": [
    "titanic_copy['Fare'] = titanic_copy['Fare'].astype(int)"
   ]
  },
  {
   "cell_type": "code",
   "execution_count": 77,
   "id": "23190b82",
   "metadata": {},
   "outputs": [],
   "source": [
    "titanic_copy.drop(['Fare_group'], axis=1, inplace=True)"
   ]
  },
  {
   "cell_type": "code",
   "execution_count": 78,
   "id": "ae104d19",
   "metadata": {},
   "outputs": [
    {
     "name": "stdout",
     "output_type": "stream",
     "text": [
      "<class 'pandas.core.frame.DataFrame'>\n",
      "RangeIndex: 879 entries, 0 to 878\n",
      "Data columns (total 9 columns):\n",
      " #   Column    Non-Null Count  Dtype \n",
      "---  ------    --------------  ----- \n",
      " 0   Survived  879 non-null    int64 \n",
      " 1   Pclass    879 non-null    int64 \n",
      " 2   Sex       879 non-null    object\n",
      " 3   Age       879 non-null    int32 \n",
      " 4   Fare      879 non-null    int32 \n",
      " 5   Cabin     879 non-null    int32 \n",
      " 6   Embarked  877 non-null    object\n",
      " 7   Title     879 non-null    object\n",
      " 8   IsAlone   879 non-null    int64 \n",
      "dtypes: int32(3), int64(3), object(3)\n",
      "memory usage: 51.6+ KB\n"
     ]
    }
   ],
   "source": [
    "titanic_copy.info()"
   ]
  },
  {
   "cell_type": "markdown",
   "id": "ef8977df",
   "metadata": {},
   "source": [
    "### Creating new attribute \n",
    " - age*class\n",
    " - Fare*class\n",
    " - IsAlone*class"
   ]
  },
  {
   "cell_type": "code",
   "execution_count": 79,
   "id": "24f1867b",
   "metadata": {},
   "outputs": [],
   "source": [
    "titanic_copy['age*class'] = titanic_copy['Age'] * titanic_copy['Pclass']\n",
    "titanic_copy['Fare*class'] = titanic_copy['Fare'] * titanic_copy['Pclass']\n",
    "titanic_copy['IsALone*class'] = titanic_copy['IsAlone'] * titanic_copy['Pclass']\n",
    "titanic_copy['Cabin*class'] = titanic_copy['Cabin'] * titanic_copy['Pclass']"
   ]
  },
  {
   "cell_type": "code",
   "execution_count": 80,
   "id": "49f8d77c",
   "metadata": {},
   "outputs": [],
   "source": [
    "titanic_copy.drop(['Age','Fare','IsAlone', 'Cabin'], axis = 1, inplace= True)"
   ]
  },
  {
   "cell_type": "code",
   "execution_count": 81,
   "id": "3be570c3",
   "metadata": {},
   "outputs": [
    {
     "name": "stderr",
     "output_type": "stream",
     "text": [
      "C:\\Users\\sayan\\AppData\\Local\\Temp\\ipykernel_14540\\1860123354.py:1: FutureWarning: The default value of numeric_only in DataFrame.corr is deprecated. In a future version, it will default to False. Select only valid columns or specify the value of numeric_only to silence this warning.\n",
      "  titanic_copy.corr()\n"
     ]
    },
    {
     "data": {
      "text/html": [
       "<div>\n",
       "<style scoped>\n",
       "    .dataframe tbody tr th:only-of-type {\n",
       "        vertical-align: middle;\n",
       "    }\n",
       "\n",
       "    .dataframe tbody tr th {\n",
       "        vertical-align: top;\n",
       "    }\n",
       "\n",
       "    .dataframe thead th {\n",
       "        text-align: right;\n",
       "    }\n",
       "</style>\n",
       "<table border=\"1\" class=\"dataframe\">\n",
       "  <thead>\n",
       "    <tr style=\"text-align: right;\">\n",
       "      <th></th>\n",
       "      <th>Survived</th>\n",
       "      <th>Pclass</th>\n",
       "      <th>age*class</th>\n",
       "      <th>Fare*class</th>\n",
       "      <th>IsALone*class</th>\n",
       "      <th>Cabin*class</th>\n",
       "    </tr>\n",
       "  </thead>\n",
       "  <tbody>\n",
       "    <tr>\n",
       "      <th>Survived</th>\n",
       "      <td>1.000000</td>\n",
       "      <td>-0.345117</td>\n",
       "      <td>-0.308257</td>\n",
       "      <td>-0.120838</td>\n",
       "      <td>0.065756</td>\n",
       "      <td>0.280593</td>\n",
       "    </tr>\n",
       "    <tr>\n",
       "      <th>Pclass</th>\n",
       "      <td>-0.345117</td>\n",
       "      <td>1.000000</td>\n",
       "      <td>0.382690</td>\n",
       "      <td>0.451732</td>\n",
       "      <td>0.174557</td>\n",
       "      <td>-0.512683</td>\n",
       "    </tr>\n",
       "    <tr>\n",
       "      <th>age*class</th>\n",
       "      <td>-0.308257</td>\n",
       "      <td>0.382690</td>\n",
       "      <td>1.000000</td>\n",
       "      <td>0.026190</td>\n",
       "      <td>-0.181919</td>\n",
       "      <td>-0.256275</td>\n",
       "    </tr>\n",
       "    <tr>\n",
       "      <th>Fare*class</th>\n",
       "      <td>-0.120838</td>\n",
       "      <td>0.451732</td>\n",
       "      <td>0.026190</td>\n",
       "      <td>1.000000</td>\n",
       "      <td>0.496542</td>\n",
       "      <td>-0.255731</td>\n",
       "    </tr>\n",
       "    <tr>\n",
       "      <th>IsALone*class</th>\n",
       "      <td>0.065756</td>\n",
       "      <td>0.174557</td>\n",
       "      <td>-0.181919</td>\n",
       "      <td>0.496542</td>\n",
       "      <td>1.000000</td>\n",
       "      <td>-0.049454</td>\n",
       "    </tr>\n",
       "    <tr>\n",
       "      <th>Cabin*class</th>\n",
       "      <td>0.280593</td>\n",
       "      <td>-0.512683</td>\n",
       "      <td>-0.256275</td>\n",
       "      <td>-0.255731</td>\n",
       "      <td>-0.049454</td>\n",
       "      <td>1.000000</td>\n",
       "    </tr>\n",
       "  </tbody>\n",
       "</table>\n",
       "</div>"
      ],
      "text/plain": [
       "               Survived    Pclass  age*class  Fare*class  IsALone*class  \\\n",
       "Survived       1.000000 -0.345117  -0.308257   -0.120838       0.065756   \n",
       "Pclass        -0.345117  1.000000   0.382690    0.451732       0.174557   \n",
       "age*class     -0.308257  0.382690   1.000000    0.026190      -0.181919   \n",
       "Fare*class    -0.120838  0.451732   0.026190    1.000000       0.496542   \n",
       "IsALone*class  0.065756  0.174557  -0.181919    0.496542       1.000000   \n",
       "Cabin*class    0.280593 -0.512683  -0.256275   -0.255731      -0.049454   \n",
       "\n",
       "               Cabin*class  \n",
       "Survived          0.280593  \n",
       "Pclass           -0.512683  \n",
       "age*class        -0.256275  \n",
       "Fare*class       -0.255731  \n",
       "IsALone*class    -0.049454  \n",
       "Cabin*class       1.000000  "
      ]
     },
     "execution_count": 81,
     "metadata": {},
     "output_type": "execute_result"
    }
   ],
   "source": [
    "titanic_copy.corr()"
   ]
  },
  {
   "cell_type": "code",
   "execution_count": 82,
   "id": "5ea8557d",
   "metadata": {},
   "outputs": [],
   "source": [
    "# All null columns are numerical but EEmbarked is categorical. Will handle categorical null value\n",
    "most_embarked = titanic_copy['Embarked'].mode()[0]\n",
    "\n",
    "titanic_copy['Embarked'].fillna(most_embarked, inplace=True)"
   ]
  },
  {
   "cell_type": "code",
   "execution_count": 83,
   "id": "f98e7842",
   "metadata": {},
   "outputs": [
    {
     "data": {
      "text/plain": [
       "S    640\n",
       "C    164\n",
       "Q     75\n",
       "Name: Embarked, dtype: int64"
      ]
     },
     "execution_count": 83,
     "metadata": {},
     "output_type": "execute_result"
    }
   ],
   "source": [
    "titanic_copy['Embarked'].value_counts(dropna=False)"
   ]
  },
  {
   "cell_type": "code",
   "execution_count": 84,
   "id": "4f998466",
   "metadata": {},
   "outputs": [],
   "source": [
    "titanic_copy.drop(['Embarked'], axis=1, inplace=True)"
   ]
  },
  {
   "cell_type": "markdown",
   "id": "6f40b66a",
   "metadata": {},
   "source": [
    "### Train Test split\n",
    "- Stratified ShuffleSplit to get Sex, Pclass a proper distribution"
   ]
  },
  {
   "cell_type": "code",
   "execution_count": 85,
   "id": "6616f57e",
   "metadata": {},
   "outputs": [],
   "source": [
    "from sklearn.model_selection import StratifiedShuffleSplit\n",
    "\n",
    "split = StratifiedShuffleSplit(n_splits = 1, test_size = .2, random_state = 42)\n",
    "for train_index, test_index in split.split(titanic_copy,titanic_copy[['Sex', 'Pclass']]):\n",
    "    X_train, X_test = titanic_copy.drop('Survived', axis = 1).iloc[train_index], titanic_copy.drop('Survived', axis = 1).iloc[test_index]\n",
    "    y_train, y_test = titanic_copy['Survived'].iloc[train_index], titanic_copy['Survived'].iloc[test_index]"
   ]
  },
  {
   "cell_type": "code",
   "execution_count": 86,
   "id": "ac1bee7c",
   "metadata": {},
   "outputs": [
    {
     "name": "stdout",
     "output_type": "stream",
     "text": [
      "<class 'pandas.core.frame.DataFrame'>\n",
      "Int64Index: 703 entries, 452 to 455\n",
      "Data columns (total 7 columns):\n",
      " #   Column         Non-Null Count  Dtype \n",
      "---  ------         --------------  ----- \n",
      " 0   Pclass         703 non-null    int64 \n",
      " 1   Sex            703 non-null    object\n",
      " 2   Title          703 non-null    object\n",
      " 3   age*class      703 non-null    int64 \n",
      " 4   Fare*class     703 non-null    int64 \n",
      " 5   IsALone*class  703 non-null    int64 \n",
      " 6   Cabin*class    703 non-null    int64 \n",
      "dtypes: int64(5), object(2)\n",
      "memory usage: 43.9+ KB\n"
     ]
    }
   ],
   "source": [
    "X_train.info()"
   ]
  },
  {
   "cell_type": "code",
   "execution_count": 87,
   "id": "121dd3b2",
   "metadata": {},
   "outputs": [
    {
     "data": {
      "text/plain": [
       "(176, 7)"
      ]
     },
     "execution_count": 87,
     "metadata": {},
     "output_type": "execute_result"
    }
   ],
   "source": [
    "X_test.shape"
   ]
  },
  {
   "cell_type": "markdown",
   "id": "1944c055",
   "metadata": {},
   "source": [
    "### Using custom function dataprep to create X_tran_prep and y_train_prep"
   ]
  },
  {
   "cell_type": "code",
   "execution_count": 88,
   "id": "b339eafb",
   "metadata": {},
   "outputs": [],
   "source": [
    "from sklearn.compose import ColumnTransformer\n",
    "from sklearn.preprocessing import OneHotEncoder\n",
    "from sklearn.pipeline import Pipeline\n",
    "from sklearn.preprocessing import StandardScaler\n",
    "from sklearn.impute import SimpleImputer\n",
    "\n",
    "\n",
    "\n",
    "def dataprep (df):\n",
    "    df_num = df.drop(['Sex','Title'], axis = 1)\n",
    "    num_attribs = list (df_num)\n",
    "    cat_attribute = ['Sex', 'Title']\n",
    "    num_pipeline = Pipeline([ \n",
    "                            ('impute', SimpleImputer(strategy = \"median\")),\n",
    "                            ('std_scaler', StandardScaler())\n",
    "                    ])\n",
    "    full_pipeline = ColumnTransformer ([\n",
    "        (\"num\",num_pipeline, num_attribs),\n",
    "        (\"cat\",OneHotEncoder(),cat_attribute)\n",
    "    ])\n",
    "    \n",
    "    df_prepared = full_pipeline.fit_transform(df)\n",
    "    return df_prepared\n",
    "\n",
    "\n",
    "X_train_prepared = dataprep(X_train)\n",
    "X_test_prepared = dataprep(X_test)"
   ]
  },
  {
   "cell_type": "code",
   "execution_count": 89,
   "id": "9ca5100a",
   "metadata": {},
   "outputs": [
    {
     "data": {
      "text/plain": [
       "array([ 0.82097234,  0.89677447,  0.01545296, -0.72808051, -0.48634208,\n",
       "        0.        ,  1.        ,  0.        ,  0.        ,  1.        ,\n",
       "        0.        ,  0.        ])"
      ]
     },
     "execution_count": 89,
     "metadata": {},
     "output_type": "execute_result"
    }
   ],
   "source": [
    "X_train_prepared[0]"
   ]
  },
  {
   "cell_type": "code",
   "execution_count": 90,
   "id": "bb093230",
   "metadata": {},
   "outputs": [
    {
     "data": {
      "text/plain": [
       "array([ 0.81831709, -0.3535977 ,  2.70049009,  1.83098623, -0.47195004,\n",
       "        1.        ,  0.        ,  0.        ,  1.        ,  0.        ,\n",
       "        0.        ,  0.        ])"
      ]
     },
     "execution_count": 90,
     "metadata": {},
     "output_type": "execute_result"
    }
   ],
   "source": [
    "X_test_prepared[0]"
   ]
  },
  {
   "cell_type": "markdown",
   "id": "4dd33f4c",
   "metadata": {},
   "source": [
    "## Function to generate model prediction and accurecy score"
   ]
  },
  {
   "cell_type": "code",
   "execution_count": 91,
   "id": "3d22e770",
   "metadata": {},
   "outputs": [],
   "source": [
    "accurecy_dict = {}\n",
    "model_list = []\n",
    "def model_fit_pred(model_name, model, X_train, X_test, y_train, y_test):\n",
    "    model.fit(X_train, y_train)\n",
    "    y_pred = model.predict(X_test)\n",
    "    accurecy(y_test, y_pred,model_name)\n",
    "    model_list.append(model)\n",
    "\n",
    "def accurecy(y_test, y_pred, model_name):\n",
    "    from sklearn import metrics\n",
    "    pred = metrics.accuracy_score(y_test, y_pred)\n",
    "    accurecy_dict[model_name] = pred\n",
    "    print(f'Accurecy of the {model_name} is:  ', pred)"
   ]
  },
  {
   "cell_type": "markdown",
   "id": "6b09b16c",
   "metadata": {},
   "source": [
    "## Model training and fitting\n",
    "- K Nearest neighbour\n",
    "- Random forest\n",
    "- Linear Regression\n",
    "- SVM\n",
    "- Decision Tree\n",
    "- Gaussian naive bayes\n",
    "- perceptron\n",
    "- linear SVC\n",
    "- SGD Classifier "
   ]
  },
  {
   "cell_type": "code",
   "execution_count": 92,
   "id": "f4492e66",
   "metadata": {},
   "outputs": [
    {
     "name": "stdout",
     "output_type": "stream",
     "text": [
      "Accurecy of the KNN is:   0.8011363636363636\n",
      "Accurecy of the Random Forest is:   0.8125\n",
      "Accurecy of the Logestic Regression is:   0.7897727272727273\n",
      "Accurecy of the SVC is:   0.7954545454545454\n",
      "Accurecy of the Decision Tree is:   0.8125\n",
      "Accurecy of the Gaussion NB is:   0.7329545454545454\n",
      "Accurecy of the Perceptron is:   0.6818181818181818\n",
      "Accurecy of the Linear SVC is:   0.7954545454545454\n",
      "Accurecy of the SGD Classifier is:   0.7443181818181818\n"
     ]
    }
   ],
   "source": [
    "from sklearn.neighbors import KNeighborsClassifier\n",
    "from sklearn.ensemble import RandomForestClassifier\n",
    "from sklearn.linear_model import LogisticRegression, Perceptron, SGDClassifier\n",
    "from sklearn.svm import SVC, LinearSVC\n",
    "from sklearn.tree import DecisionTreeClassifier\n",
    "from sklearn.naive_bayes import GaussianNB\n",
    "\n",
    "knn = KNeighborsClassifier(n_neighbors=5)\n",
    "clf = RandomForestClassifier(n_estimators = 100) \n",
    "lreg = LogisticRegression()\n",
    "svc = SVC()\n",
    "dclf = DecisionTreeClassifier()\n",
    "gnb = GaussianNB()\n",
    "perc = Perceptron()\n",
    "lsvc = LinearSVC()\n",
    "sgd = SGDClassifier()\n",
    "\n",
    "model_fit_pred('KNN', knn, X_train_prepared,X_test_prepared, y_train, y_test)\n",
    "model_fit_pred('Random Forest', clf, X_train_prepared,X_test_prepared, y_train, y_test)\n",
    "model_fit_pred('Logestic Regression', lreg, X_train_prepared,X_test_prepared, y_train, y_test)\n",
    "model_fit_pred('SVC', svc, X_train_prepared,X_test_prepared, y_train, y_test)\n",
    "model_fit_pred('Decision Tree', dclf, X_train_prepared,X_test_prepared, y_train, y_test)\n",
    "model_fit_pred('Gaussion NB', gnb, X_train_prepared,X_test_prepared, y_train, y_test)\n",
    "model_fit_pred('Perceptron', perc, X_train_prepared,X_test_prepared, y_train, y_test)\n",
    "model_fit_pred('Linear SVC', lsvc, X_train_prepared,X_test_prepared, y_train, y_test)\n",
    "model_fit_pred('SGD Classifier', sgd, X_train_prepared,X_test_prepared, y_train, y_test)\n",
    "\n"
   ]
  },
  {
   "cell_type": "code",
   "execution_count": 93,
   "id": "d2803642",
   "metadata": {},
   "outputs": [
    {
     "data": {
      "text/plain": [
       "Text(0.5, 1.0, 'MODEL ACCURECY SCORE')"
      ]
     },
     "execution_count": 93,
     "metadata": {},
     "output_type": "execute_result"
    },
    {
     "data": {
      "image/png": "[encoded data removed]",
      "text/plain": [
       "<Figure size 640x480 with 1 Axes>"
      ]
     },
     "metadata": {},
     "output_type": "display_data"
    }
   ],
   "source": [
    "y = list(accurecy_dict.keys())\n",
    "x = [accurecy_dict.get(i) for i in y]\n",
    "sns.barplot(x= x, y = y, orient='h')\n",
    "plt.title(\"MODEL ACCURECY SCORE\")"
   ]
  },
  {
   "cell_type": "markdown",
   "id": "d3dd82d3",
   "metadata": {},
   "source": [
    "# USing corss val score"
   ]
  },
  {
   "cell_type": "code",
   "execution_count": 94,
   "id": "d6ae849c",
   "metadata": {},
   "outputs": [],
   "source": [
    "from sklearn.model_selection import cross_val_score, cross_val_predict\n",
    "scores = []\n",
    "def cv_score(model_list, X_train_prepared, y_train):\n",
    "    for model in model_list:\n",
    "        score = cross_val_score(model, X_train_prepared, y_train,\n",
    "                         scoring=\"accuracy\", cv=10)\n",
    "        scores.append(score)\n",
    "    return scores"
   ]
  },
  {
   "cell_type": "code",
   "execution_count": 95,
   "id": "e6ed1558",
   "metadata": {},
   "outputs": [
    {
     "name": "stderr",
     "output_type": "stream",
     "text": [
      "C:\\Users\\sayan\\anaconda3\\Lib\\site-packages\\sklearn\\svm\\_base.py:1244: ConvergenceWarning: Liblinear failed to converge, increase the number of iterations.\n",
      "  warnings.warn(\n",
      "C:\\Users\\sayan\\anaconda3\\Lib\\site-packages\\sklearn\\svm\\_base.py:1244: ConvergenceWarning: Liblinear failed to converge, increase the number of iterations.\n",
      "  warnings.warn(\n",
      "C:\\Users\\sayan\\anaconda3\\Lib\\site-packages\\sklearn\\svm\\_base.py:1244: ConvergenceWarning: Liblinear failed to converge, increase the number of iterations.\n",
      "  warnings.warn(\n"
     ]
    }
   ],
   "source": [
    "cv_results = cv_score(model_list, X_train_prepared, y_train)"
   ]
  },
  {
   "cell_type": "code",
   "execution_count": 96,
   "id": "50bbdb52",
   "metadata": {},
   "outputs": [],
   "source": [
    "#calculating mean and std of each model CV score\n",
    "cv_mean = [result.mean() for result in cv_results]\n",
    "cv_std = [result.std() for result in cv_results]"
   ]
  },
  {
   "cell_type": "code",
   "execution_count": 97,
   "id": "da351710",
   "metadata": {},
   "outputs": [],
   "source": [
    "model_name = [str(model)[:len(str(model))-2] for model in model_list]"
   ]
  },
  {
   "cell_type": "code",
   "execution_count": 98,
   "id": "065e33cd",
   "metadata": {},
   "outputs": [
    {
     "name": "stdout",
     "output_type": "stream",
     "text": [
      "MODEL NAME =========================> MEAN\n",
      "KNeighborsClassifier ====>       0.8235010060362173\n",
      "RandomForestClassifier ====>       0.8406639839034206\n",
      "LogisticRegression ====>       0.8278068410462776\n",
      "SVC ====>       0.8434607645875252\n",
      "DecisionTreeClassifier ====>       0.8292957746478873\n",
      "GaussianNB ====>       0.7863782696177062\n",
      "Perceptron ====>       0.7908048289738431\n",
      "LinearSVC ====>       0.8277867203219316\n",
      "SGDClassifier ====>       0.7328370221327967\n",
      "============================================================\n",
      "(0.8434607645875252, 'SVC')\n"
     ]
    }
   ],
   "source": [
    "print('MODEL NAME =========================> MEAN')\n",
    "for i in range(len(model_name)):\n",
    "    print(f'{model_name[i]} ====>       {cv_mean[i]}')\n",
    "\n",
    "print('==='*20)\n",
    "highest_mean = sorted(zip(cv_mean, model_name), reverse=True)[0]\n",
    "print(highest_mean)"
   ]
  },
  {
   "cell_type": "code",
   "execution_count": 99,
   "id": "faa34177",
   "metadata": {},
   "outputs": [
    {
     "data": {
      "text/plain": [
       "<Axes: >"
      ]
     },
     "execution_count": 99,
     "metadata": {},
     "output_type": "execute_result"
    },
    {
     "data": {
      "image/png": "[encoded data removed]",
      "text/plain": [
       "<Figure size 640x480 with 1 Axes>"
      ]
     },
     "metadata": {},
     "output_type": "display_data"
    }
   ],
   "source": [
    "#baeplot for mean value\n",
    "sns.barplot(x = cv_mean, y = model_name, orient='h',)"
   ]
  },
  {
   "cell_type": "markdown",
   "id": "c7a1b7b3",
   "metadata": {},
   "source": [
    "- As per above graph SVC got highest mean"
   ]
  },
  {
   "cell_type": "code",
   "execution_count": 100,
   "id": "f77fbcd6",
   "metadata": {},
   "outputs": [],
   "source": [
    "#using SVC to get the confusion matrix\n",
    "def cv_predict(model_list, X_test_prepared, y_test):\n",
    "    for model in model_list:\n",
    "        y_pred = cross_val_predict(model, X_test_prepared, y_test, cv=10)\n",
    "        confusion_metric = metrics.confusion_matrix(y_test, y_pred)\n",
    "        model_name = str(model)[:len(str(model))-2]\n",
    "        plt.figure()\n",
    "        sns.heatmap(confusion_metric, annot= True, cmap= 'Blues')\n",
    "        plt.title(model_name)"
   ]
  },
  {
   "cell_type": "code",
   "execution_count": 101,
   "id": "ab41ecda",
   "metadata": {},
   "outputs": [
    {
     "data": {
      "image/png": "[encoded data removed]",
      "text/plain": [
       "<Figure size 640x480 with 2 Axes>"
      ]
     },
     "metadata": {},
     "output_type": "display_data"
    },
    {
     "data": {
      "image/png": "[encoded data removed]",
      "text/plain": [
       "<Figure size 640x480 with 2 Axes>"
      ]
     },
     "metadata": {},
     "output_type": "display_data"
    },
    {
     "data": {
      "image/png": "[encoded data removed]",
      "text/plain": [
       "<Figure size 640x480 with 2 Axes>"
      ]
     },
     "metadata": {},
     "output_type": "display_data"
    },
    {
     "data": {
      "image/png": "[encoded data removed]",
      "text/plain": [
       "<Figure size 640x480 with 2 Axes>"
      ]
     },
     "metadata": {},
     "output_type": "display_data"
    },
    {
     "data": {
      "image/png": "[encoded data removed]",
      "text/plain": [
       "<Figure size 640x480 with 2 Axes>"
      ]
     },
     "metadata": {},
     "output_type": "display_data"
    },
    {
     "data": {
      "image/png": "[encoded data removed]",
      "text/plain": [
       "<Figure size 640x480 with 2 Axes>"
      ]
     },
     "metadata": {},
     "output_type": "display_data"
    },
    {
     "data": {
      "image/png": "[encoded data removed]",
      "text/plain": [
       "<Figure size 640x480 with 2 Axes>"
      ]
     },
     "metadata": {},
     "output_type": "display_data"
    },
    {
     "data": {
      "image/png": "[encoded data removed]",
      "text/plain": [
       "<Figure size 640x480 with 2 Axes>"
      ]
     },
     "metadata": {},
     "output_type": "display_data"
    },
    {
     "data": {
      "image/png": "[encoded data removed]",
      "text/plain": [
       "<Figure size 640x480 with 2 Axes>"
      ]
     },
     "metadata": {},
     "output_type": "display_data"
    }
   ],
   "source": [
    "cv_predict(model_list, X_test_prepared, y_test)"
   ]
  },
  {
   "cell_type": "markdown",
   "id": "6934c9c5",
   "metadata": {},
   "source": [
    "## Hyper parameter tuning for SVC"
   ]
  },
  {
   "cell_type": "code",
   "execution_count": 102,
   "id": "0909752f",
   "metadata": {},
   "outputs": [
    {
     "data": {
      "text/html": [
       "<style>#sk-container-id-1 {color: black;background-color: white;}#sk-container-id-1 pre{padding: 0;}#sk-container-id-1 div.sk-toggleable {background-color: white;}#sk-container-id-1 label.sk-toggleable__label {cursor: pointer;display: block;width: 100%;margin-bottom: 0;padding: 0.3em;box-sizing: border-box;text-align: center;}#sk-container-id-1 label.sk-toggleable__label-arrow:before {content: \"▸\";float: left;margin-right: 0.25em;color: #696969;}#sk-container-id-1 label.sk-toggleable__label-arrow:hover:before {color: black;}#sk-container-id-1 div.sk-estimator:hover label.sk-toggleable__label-arrow:before {color: black;}#sk-container-id-1 div.sk-toggleable__content {max-height: 0;max-width: 0;overflow: hidden;text-align: left;background-color: #f0f8ff;}#sk-container-id-1 div.sk-toggleable__content pre {margin: 0.2em;color: black;border-radius: 0.25em;background-color: #f0f8ff;}#sk-container-id-1 input.sk-toggleable__control:checked~div.sk-toggleable__content {max-height: 200px;max-width: 100%;overflow: auto;}#sk-container-id-1 input.sk-toggleable__control:checked~label.sk-toggleable__label-arrow:before {content: \"▾\";}#sk-container-id-1 div.sk-estimator input.sk-toggleable__control:checked~label.sk-toggleable__label {background-color: #d4ebff;}#sk-container-id-1 div.sk-label input.sk-toggleable__control:checked~label.sk-toggleable__label {background-color: #d4ebff;}#sk-container-id-1 input.sk-hidden--visually {border: 0;clip: rect(1px 1px 1px 1px);clip: rect(1px, 1px, 1px, 1px);height: 1px;margin: -1px;overflow: hidden;padding: 0;position: absolute;width: 1px;}#sk-container-id-1 div.sk-estimator {font-family: monospace;background-color: #f0f8ff;border: 1px dotted black;border-radius: 0.25em;box-sizing: border-box;margin-bottom: 0.5em;}#sk-container-id-1 div.sk-estimator:hover {background-color: #d4ebff;}#sk-container-id-1 div.sk-parallel-item::after {content: \"\";width: 100%;border-bottom: 1px solid gray;flex-grow: 1;}#sk-container-id-1 div.sk-label:hover label.sk-toggleable__label {background-color: #d4ebff;}#sk-container-id-1 div.sk-serial::before {content: \"\";position: absolute;border-left: 1px solid gray;box-sizing: border-box;top: 0;bottom: 0;left: 50%;z-index: 0;}#sk-container-id-1 div.sk-serial {display: flex;flex-direction: column;align-items: center;background-color: white;padding-right: 0.2em;padding-left: 0.2em;position: relative;}#sk-container-id-1 div.sk-item {position: relative;z-index: 1;}#sk-container-id-1 div.sk-parallel {display: flex;align-items: stretch;justify-content: center;background-color: white;position: relative;}#sk-container-id-1 div.sk-item::before, #sk-container-id-1 div.sk-parallel-item::before {content: \"\";position: absolute;border-left: 1px solid gray;box-sizing: border-box;top: 0;bottom: 0;left: 50%;z-index: -1;}#sk-container-id-1 div.sk-parallel-item {display: flex;flex-direction: column;z-index: 1;position: relative;background-color: white;}#sk-container-id-1 div.sk-parallel-item:first-child::after {align-self: flex-end;width: 50%;}#sk-container-id-1 div.sk-parallel-item:last-child::after {align-self: flex-start;width: 50%;}#sk-container-id-1 div.sk-parallel-item:only-child::after {width: 0;}#sk-container-id-1 div.sk-dashed-wrapped {border: 1px dashed gray;margin: 0 0.4em 0.5em 0.4em;box-sizing: border-box;padding-bottom: 0.4em;background-color: white;}#sk-container-id-1 div.sk-label label {font-family: monospace;font-weight: bold;display: inline-block;line-height: 1.2em;}#sk-container-id-1 div.sk-label-container {text-align: center;}#sk-container-id-1 div.sk-container {/* jupyter's `normalize.less` sets `[hidden] { display: none; }` but bootstrap.min.css set `[hidden] { display: none !important; }` so we also need the `!important` here to be able to override the default hidden behavior on the sphinx rendered scikit-learn.org. See: https://github.com/scikit-learn/scikit-learn/issues/21755 */display: inline-block !important;position: relative;}#sk-container-id-1 div.sk-text-repr-fallback {display: none;}</style><div id=\"sk-container-id-1\" class=\"sk-top-container\"><div class=\"sk-text-repr-fallback\"><pre>GridSearchCV(cv=10, estimator=SVC(),\n",
       "             param_grid={&#x27;C&#x27;: [100, 1000, 10000, 100000],\n",
       "                         &#x27;gamma&#x27;: [0.01, 0.001, 0.0001, 1e-05, 1e-06],\n",
       "                         &#x27;kernel&#x27;: [&#x27;rbf&#x27;]},\n",
       "             return_train_score=True, scoring=&#x27;accuracy&#x27;)</pre><b>In a Jupyter environment, please rerun this cell to show the HTML representation or trust the notebook. <br />On GitHub, the HTML representation is unable to render, please try loading this page with nbviewer.org.</b></div><div class=\"sk-container\" hidden><div class=\"sk-item sk-dashed-wrapped\"><div class=\"sk-label-container\"><div class=\"sk-label sk-toggleable\"><input class=\"sk-toggleable__control sk-hidden--visually\" id=\"sk-estimator-id-1\" type=\"checkbox\" ><label for=\"sk-estimator-id-1\" class=\"sk-toggleable__label sk-toggleable__label-arrow\">GridSearchCV</label><div class=\"sk-toggleable__content\"><pre>GridSearchCV(cv=10, estimator=SVC(),\n",
       "             param_grid={&#x27;C&#x27;: [100, 1000, 10000, 100000],\n",
       "                         &#x27;gamma&#x27;: [0.01, 0.001, 0.0001, 1e-05, 1e-06],\n",
       "                         &#x27;kernel&#x27;: [&#x27;rbf&#x27;]},\n",
       "             return_train_score=True, scoring=&#x27;accuracy&#x27;)</pre></div></div></div><div class=\"sk-parallel\"><div class=\"sk-parallel-item\"><div class=\"sk-item\"><div class=\"sk-label-container\"><div class=\"sk-label sk-toggleable\"><input class=\"sk-toggleable__control sk-hidden--visually\" id=\"sk-estimator-id-2\" type=\"checkbox\" ><label for=\"sk-estimator-id-2\" class=\"sk-toggleable__label sk-toggleable__label-arrow\">estimator: SVC</label><div class=\"sk-toggleable__content\"><pre>SVC()</pre></div></div></div><div class=\"sk-serial\"><div class=\"sk-item\"><div class=\"sk-estimator sk-toggleable\"><input class=\"sk-toggleable__control sk-hidden--visually\" id=\"sk-estimator-id-3\" type=\"checkbox\" ><label for=\"sk-estimator-id-3\" class=\"sk-toggleable__label sk-toggleable__label-arrow\">SVC</label><div class=\"sk-toggleable__content\"><pre>SVC()</pre></div></div></div></div></div></div></div></div></div></div>"
      ],
      "text/plain": [
       "GridSearchCV(cv=10, estimator=SVC(),\n",
       "             param_grid={'C': [100, 1000, 10000, 100000],\n",
       "                         'gamma': [0.01, 0.001, 0.0001, 1e-05, 1e-06],\n",
       "                         'kernel': ['rbf']},\n",
       "             return_train_score=True, scoring='accuracy')"
      ]
     },
     "execution_count": 102,
     "metadata": {},
     "output_type": "execute_result"
    }
   ],
   "source": [
    "from sklearn.model_selection import GridSearchCV\n",
    "try:\n",
    "    param_grid = {'C' : [100, 1000, 10000, 100000],\n",
    "                  \"gamma\" : [.01, .001, .0001, .00001, .000001],\n",
    "                 'kernel' : ['rbf']}\n",
    "    grid_search = GridSearchCV(model_list[model_name.index(highest_mean[1])], param_grid, cv = 10,\n",
    "                              scoring='accuracy', return_train_score=True)\n",
    "    grid_search.fit(X_train_prepared, y_train)\n",
    "except Exception as e:\n",
    "    print(highest_mean[1], e)\n",
    "    \n",
    "grid_search"
   ]
  },
  {
   "cell_type": "code",
   "execution_count": 103,
   "id": "bbf50502",
   "metadata": {},
   "outputs": [],
   "source": [
    "final_model = grid_search.best_estimator_"
   ]
  },
  {
   "cell_type": "code",
   "execution_count": 104,
   "id": "f829f5e2",
   "metadata": {},
   "outputs": [],
   "source": [
    "y_pred = final_model.predict(X_test_prepared)"
   ]
  },
  {
   "cell_type": "code",
   "execution_count": 105,
   "id": "f85509ed",
   "metadata": {},
   "outputs": [
    {
     "name": "stdout",
     "output_type": "stream",
     "text": [
      "[[92 17]\n",
      " [19 48]]\n",
      "Accurecy score:  0.7954545454545454\n"
     ]
    },
    {
     "data": {
      "text/plain": [
       "<Axes: >"
      ]
     },
     "execution_count": 105,
     "metadata": {},
     "output_type": "execute_result"
    },
    {
     "data": {
      "image/png": "[encoded data removed]",
      "text/plain": [
       "<Figure size 640x480 with 2 Axes>"
      ]
     },
     "metadata": {},
     "output_type": "display_data"
    }
   ],
   "source": [
    "confusion_metric = metrics.confusion_matrix(y_test, y_pred)\n",
    "print(confusion_metric)\n",
    "print('Accurecy score: ', metrics.accuracy_score(y_test, y_pred))\n",
    "sns.heatmap(confusion_metric, annot= True, cmap= 'Blues', fmt='g')"
   ]
  },
  {
   "cell_type": "markdown",
   "id": "df894c22",
   "metadata": {},
   "source": [
    "### Class for Data preperation"
   ]
  },
  {
   "cell_type": "code",
   "execution_count": 107,
   "id": "ca3df2ea",
   "metadata": {},
   "outputs": [],
   "source": [
    "from sklearn.base import BaseEstimator, TransformerMixin\n",
    "from sklearn.compose import ColumnTransformer\n",
    "from sklearn.preprocessing import OneHotEncoder\n",
    "from sklearn.pipeline import Pipeline\n",
    "from sklearn.preprocessing import StandardScaler\n",
    "from sklearn.impute import SimpleImputer\n",
    "from sklearn.model_selection import StratifiedShuffleSplit\n",
    "\n",
    "def outliers(df, params:[]):\n",
    "    \"\"\"\n",
    "    This fuction will detect and remove the outliers where it is more than Q3 and less than Q1 by 1.5times of IQR.\n",
    "\n",
    "    \"\"\"\n",
    "    df = df.copy()\n",
    "    for param in params:\n",
    "        Q1 = df[param].quantile(.25)\n",
    "        Q3 = df[param].quantile(.75)\n",
    "\n",
    "        IQR = Q3 - Q1\n",
    "        upper = Q3 + 1.5*IQR\n",
    "        lower = Q1 - 1.5*IQR\n",
    "\n",
    "        upper_arr = np.where(df[param] >= upper)[0]\n",
    "        lower_arr = np.where(df[param] <= lower)[0]\n",
    "        df = df.drop(index=upper_arr)\n",
    "        df = df.drop(index=lower_arr)\n",
    "        df = df.reset_index()\n",
    "        df = df.drop('index',axis = 1)\n",
    "\n",
    "    return df\n",
    "\n",
    "# Train test spliing\n",
    "def trainTestsplit (df):\n",
    "    split = StratifiedShuffleSplit(n_splits = 1, test_size = .2, random_state = 42)\n",
    "    for train_index, test_index in split.split(titanic_copy,titanic_copy[['Sex', 'Pclass']]):\n",
    "        X_train, X_test = titanic_copy.drop('Survived', axis = 1).iloc[train_index], titanic_copy.drop('Survived', axis = 1).iloc[test_index]\n",
    "        X_train, X_test = titanic_copy['Survived'].iloc[train_index], titanic_copy['Survived'].iloc[test_index]\n",
    "    return X_train, X_test, X_train, X_test\n",
    "\n",
    "class DataPreparationPipeline(BaseEstimator, TransformerMixin):\n",
    "    \n",
    "    def fit(self, X, y=None):\n",
    "        return self\n",
    "    \n",
    "    def transform(self, X, y=None):\n",
    "        X['Fare'] = X['Fare'].map(lambda x: np.log(x) if x > 0 else 0) # log trasformation on fare column\n",
    "        X['Title'] = [name.split(',')[1].split('.')[0].strip() for name in X['Name']] #creating new column 'Title'\n",
    "        #replacing the Title which occure less number of times\n",
    "        X['Title'] = X['Title'].replace(['Dr','Rev','Major','Col',\n",
    "                                         'Don','Lady','Sir','the Countess','Jonkheer', 'Dona'], 'Rare')\n",
    "        X['Title'] = X['Title'].replace(['Mlle','Ms'], 'Miss')\n",
    "        X['Title'] = X['Title'].replace(['Mme'], 'Mrs')\n",
    "        # There is no patern to understand the NaN values of the Cabin. Thus we will fill 0 for NaN and if Cabin is present we will mark as 1\n",
    "        X.loc[X['Cabin'].isna() == False, 'Cabin'] = 1\n",
    "        X.loc[X['Cabin'].isna() == True, 'Cabin'] = 0\n",
    "        X['Cabin'] = X['Cabin'].astype(int)\n",
    "        #Creating new column isAlone.\n",
    "        X['Family'] = X['SibSp'] + X['Parch'] + 1\n",
    "        X['IsAlone'] = 0\n",
    "        X.loc[X['Family']==1, 'IsAlone'] = 0\n",
    "        X.loc[X['Family'] > 1, 'IsAlone'] = 1\n",
    "        \n",
    "        #filling NaN values for age column\n",
    "        if X['Age'].isna().sum() > 0:\n",
    "            df_age_avg = X.groupby(['Pclass', 'Sex', 'Title']).agg({'Age' : 'mean'}).reset_index()\n",
    "            df_age_avg['Concate'] = df_age_avg['Sex'] + df_age_avg['Title']\n",
    "            avg_age = {}\n",
    "            for i in range(df_age_avg.shape[0]):\n",
    "                df_age_avg['Concate'][i] = df_age_avg['Concate'][i] + str(df_age_avg['Pclass'][i])\n",
    "                avg_age[df_age_avg['Concate'][i]] = df_age_avg['Age'][i]\n",
    "            X.reset_index(drop=True, inplace=True)\n",
    "            X['Concate'] = X['Sex'] + X['Title']\n",
    "            for i in range(X.shape[0]):\n",
    "                X['Concate'][i] = X['Concate'][i] + str(X['Pclass'][i])\n",
    "                if pd.isna(X.loc[i, 'Age']):\n",
    "                    X['Age'][i] = avg_age.get(X['Concate'][i])\n",
    "        \n",
    "        #Age Group\n",
    "        X.loc[X['Age']<=13.136 , 'Age'] = 0\n",
    "        X.loc[(X['Age']>13.136) & (X['Age']<=25.852) , 'Age'] = 1\n",
    "        X.loc[(X['Age']>25.852) & (X['Age']<=38.568) , 'Age'] = 2\n",
    "        X.loc[(X['Age']>38.568) & (X['Age']<=51.284) , 'Age'] = 3\n",
    "        X.loc[(X['Age']>51.284) , 'Age'] = 4\n",
    "        X['Age'] = X['Age'].astype(int)\n",
    "        \n",
    "        #Fare Gruop\n",
    "        X.loc[X['Fare']<=1.56 , 'Fare'] = 0\n",
    "        X.loc[(X['Fare']>1.56) & (X['Fare']<=3.119) , 'Fare'] = 1\n",
    "        X.loc[(X['Fare']>3.119) & (X['Fare']<=4.679) , 'Fare'] = 2\n",
    "        X.loc[(X['Fare']>4.679) , 'Fare'] = 3\n",
    "        X['Fare'] = X['Fare'].astype(int)\n",
    "        \n",
    "        # Creating new attribute\n",
    "        X['age*class'] = X['Age'] * X['Pclass']\n",
    "        X['Fare*class'] = X['Fare'] * X['Pclass']\n",
    "        X['IsALone*class'] = X['IsAlone'] * X['Pclass']\n",
    "        X['Cabin*class'] = X['Cabin'] * X['Pclass']\n",
    "        \n",
    "        #Droping columns\n",
    "        X.drop(['Concate','Age','Fare','IsAlone', 'Cabin', \n",
    "                'SibSp', 'Parch', 'Family', 'PassengerId', 'Name', \n",
    "                'Ticket','Age','Fare','IsAlone', 'Cabin', 'Embarked'], axis = 1, inplace= True)\n",
    "        return X\n",
    "\n",
    "def dataprep (df):\n",
    "    df_num = df.drop(['Sex','Title'], axis = 1)\n",
    "    num_attribs = list (df_num)\n",
    "    cat_attribute = ['Sex', 'Title']\n",
    "    num_pipeline = Pipeline([ \n",
    "                            ('impute', SimpleImputer(strategy = \"median\")),\n",
    "                            ('std_scaler', StandardScaler())\n",
    "                    ])\n",
    "    full_pipeline = ColumnTransformer ([\n",
    "        (\"num\",num_pipeline, num_attribs),\n",
    "        (\"cat\",OneHotEncoder(),cat_attribute)\n",
    "    ])\n",
    "    \n",
    "    df_prepared = full_pipeline.fit_transform(df)\n",
    "    return df_prepared  "
   ]
  },
  {
   "cell_type": "code",
   "execution_count": 108,
   "id": "9473c13c",
   "metadata": {},
   "outputs": [],
   "source": [
    "titanic_df = outliers(titanic, ['Age'])"
   ]
  },
  {
   "cell_type": "code",
   "execution_count": 109,
   "id": "4cdf220d",
   "metadata": {},
   "outputs": [
    {
     "name": "stderr",
     "output_type": "stream",
     "text": [
      "C:\\Users\\sayan\\AppData\\Local\\Temp\\ipykernel_14540\\2670576304.py:69: SettingWithCopyWarning: \n",
      "A value is trying to be set on a copy of a slice from a DataFrame\n",
      "\n",
      "See the caveats in the documentation: https://pandas.pydata.org/pandas-docs/stable/user_guide/indexing.html#returning-a-view-versus-a-copy\n",
      "  df_age_avg['Concate'][i] = df_age_avg['Concate'][i] + str(df_age_avg['Pclass'][i])\n",
      "C:\\Users\\sayan\\AppData\\Local\\Temp\\ipykernel_14540\\2670576304.py:74: SettingWithCopyWarning: \n",
      "A value is trying to be set on a copy of a slice from a DataFrame\n",
      "\n",
      "See the caveats in the documentation: https://pandas.pydata.org/pandas-docs/stable/user_guide/indexing.html#returning-a-view-versus-a-copy\n",
      "  X['Concate'][i] = X['Concate'][i] + str(X['Pclass'][i])\n",
      "C:\\Users\\sayan\\AppData\\Local\\Temp\\ipykernel_14540\\2670576304.py:76: SettingWithCopyWarning: \n",
      "A value is trying to be set on a copy of a slice from a DataFrame\n",
      "\n",
      "See the caveats in the documentation: https://pandas.pydata.org/pandas-docs/stable/user_guide/indexing.html#returning-a-view-versus-a-copy\n",
      "  X['Age'][i] = avg_age.get(X['Concate'][i])\n"
     ]
    }
   ],
   "source": [
    "data_prep = DataPreparationPipeline()\n",
    "X = data_prep.fit_transform(titanic_df)"
   ]
  },
  {
   "cell_type": "code",
   "execution_count": 110,
   "id": "a489d0d8",
   "metadata": {},
   "outputs": [],
   "source": [
    "X_prep, y_prep = X.drop(['Survived'], axis = 1), X['Survived']"
   ]
  },
  {
   "cell_type": "code",
   "execution_count": 111,
   "id": "bdebe485",
   "metadata": {},
   "outputs": [],
   "source": [
    "X_prepared = dataprep(X_prep)"
   ]
  },
  {
   "cell_type": "code",
   "execution_count": 112,
   "id": "cc50d984",
   "metadata": {},
   "outputs": [
    {
     "data": {
      "text/html": [
       "<style>#sk-container-id-2 {color: black;background-color: white;}#sk-container-id-2 pre{padding: 0;}#sk-container-id-2 div.sk-toggleable {background-color: white;}#sk-container-id-2 label.sk-toggleable__label {cursor: pointer;display: block;width: 100%;margin-bottom: 0;padding: 0.3em;box-sizing: border-box;text-align: center;}#sk-container-id-2 label.sk-toggleable__label-arrow:before {content: \"▸\";float: left;margin-right: 0.25em;color: #696969;}#sk-container-id-2 label.sk-toggleable__label-arrow:hover:before {color: black;}#sk-container-id-2 div.sk-estimator:hover label.sk-toggleable__label-arrow:before {color: black;}#sk-container-id-2 div.sk-toggleable__content {max-height: 0;max-width: 0;overflow: hidden;text-align: left;background-color: #f0f8ff;}#sk-container-id-2 div.sk-toggleable__content pre {margin: 0.2em;color: black;border-radius: 0.25em;background-color: #f0f8ff;}#sk-container-id-2 input.sk-toggleable__control:checked~div.sk-toggleable__content {max-height: 200px;max-width: 100%;overflow: auto;}#sk-container-id-2 input.sk-toggleable__control:checked~label.sk-toggleable__label-arrow:before {content: \"▾\";}#sk-container-id-2 div.sk-estimator input.sk-toggleable__control:checked~label.sk-toggleable__label {background-color: #d4ebff;}#sk-container-id-2 div.sk-label input.sk-toggleable__control:checked~label.sk-toggleable__label {background-color: #d4ebff;}#sk-container-id-2 input.sk-hidden--visually {border: 0;clip: rect(1px 1px 1px 1px);clip: rect(1px, 1px, 1px, 1px);height: 1px;margin: -1px;overflow: hidden;padding: 0;position: absolute;width: 1px;}#sk-container-id-2 div.sk-estimator {font-family: monospace;background-color: #f0f8ff;border: 1px dotted black;border-radius: 0.25em;box-sizing: border-box;margin-bottom: 0.5em;}#sk-container-id-2 div.sk-estimator:hover {background-color: #d4ebff;}#sk-container-id-2 div.sk-parallel-item::after {content: \"\";width: 100%;border-bottom: 1px solid gray;flex-grow: 1;}#sk-container-id-2 div.sk-label:hover label.sk-toggleable__label {background-color: #d4ebff;}#sk-container-id-2 div.sk-serial::before {content: \"\";position: absolute;border-left: 1px solid gray;box-sizing: border-box;top: 0;bottom: 0;left: 50%;z-index: 0;}#sk-container-id-2 div.sk-serial {display: flex;flex-direction: column;align-items: center;background-color: white;padding-right: 0.2em;padding-left: 0.2em;position: relative;}#sk-container-id-2 div.sk-item {position: relative;z-index: 1;}#sk-container-id-2 div.sk-parallel {display: flex;align-items: stretch;justify-content: center;background-color: white;position: relative;}#sk-container-id-2 div.sk-item::before, #sk-container-id-2 div.sk-parallel-item::before {content: \"\";position: absolute;border-left: 1px solid gray;box-sizing: border-box;top: 0;bottom: 0;left: 50%;z-index: -1;}#sk-container-id-2 div.sk-parallel-item {display: flex;flex-direction: column;z-index: 1;position: relative;background-color: white;}#sk-container-id-2 div.sk-parallel-item:first-child::after {align-self: flex-end;width: 50%;}#sk-container-id-2 div.sk-parallel-item:last-child::after {align-self: flex-start;width: 50%;}#sk-container-id-2 div.sk-parallel-item:only-child::after {width: 0;}#sk-container-id-2 div.sk-dashed-wrapped {border: 1px dashed gray;margin: 0 0.4em 0.5em 0.4em;box-sizing: border-box;padding-bottom: 0.4em;background-color: white;}#sk-container-id-2 div.sk-label label {font-family: monospace;font-weight: bold;display: inline-block;line-height: 1.2em;}#sk-container-id-2 div.sk-label-container {text-align: center;}#sk-container-id-2 div.sk-container {/* jupyter's `normalize.less` sets `[hidden] { display: none; }` but bootstrap.min.css set `[hidden] { display: none !important; }` so we also need the `!important` here to be able to override the default hidden behavior on the sphinx rendered scikit-learn.org. See: https://github.com/scikit-learn/scikit-learn/issues/21755 */display: inline-block !important;position: relative;}#sk-container-id-2 div.sk-text-repr-fallback {display: none;}</style><div id=\"sk-container-id-2\" class=\"sk-top-container\"><div class=\"sk-text-repr-fallback\"><pre>GridSearchCV(cv=10, estimator=SVC(),\n",
       "             param_grid={&#x27;C&#x27;: [100, 1000, 10000, 100000],\n",
       "                         &#x27;gamma&#x27;: [0.01, 0.001, 0.0001, 1e-05, 1e-06],\n",
       "                         &#x27;kernel&#x27;: [&#x27;rbf&#x27;]},\n",
       "             return_train_score=True, scoring=&#x27;accuracy&#x27;)</pre><b>In a Jupyter environment, please rerun this cell to show the HTML representation or trust the notebook. <br />On GitHub, the HTML representation is unable to render, please try loading this page with nbviewer.org.</b></div><div class=\"sk-container\" hidden><div class=\"sk-item sk-dashed-wrapped\"><div class=\"sk-label-container\"><div class=\"sk-label sk-toggleable\"><input class=\"sk-toggleable__control sk-hidden--visually\" id=\"sk-estimator-id-4\" type=\"checkbox\" ><label for=\"sk-estimator-id-4\" class=\"sk-toggleable__label sk-toggleable__label-arrow\">GridSearchCV</label><div class=\"sk-toggleable__content\"><pre>GridSearchCV(cv=10, estimator=SVC(),\n",
       "             param_grid={&#x27;C&#x27;: [100, 1000, 10000, 100000],\n",
       "                         &#x27;gamma&#x27;: [0.01, 0.001, 0.0001, 1e-05, 1e-06],\n",
       "                         &#x27;kernel&#x27;: [&#x27;rbf&#x27;]},\n",
       "             return_train_score=True, scoring=&#x27;accuracy&#x27;)</pre></div></div></div><div class=\"sk-parallel\"><div class=\"sk-parallel-item\"><div class=\"sk-item\"><div class=\"sk-label-container\"><div class=\"sk-label sk-toggleable\"><input class=\"sk-toggleable__control sk-hidden--visually\" id=\"sk-estimator-id-5\" type=\"checkbox\" ><label for=\"sk-estimator-id-5\" class=\"sk-toggleable__label sk-toggleable__label-arrow\">estimator: SVC</label><div class=\"sk-toggleable__content\"><pre>SVC()</pre></div></div></div><div class=\"sk-serial\"><div class=\"sk-item\"><div class=\"sk-estimator sk-toggleable\"><input class=\"sk-toggleable__control sk-hidden--visually\" id=\"sk-estimator-id-6\" type=\"checkbox\" ><label for=\"sk-estimator-id-6\" class=\"sk-toggleable__label sk-toggleable__label-arrow\">SVC</label><div class=\"sk-toggleable__content\"><pre>SVC()</pre></div></div></div></div></div></div></div></div></div></div>"
      ],
      "text/plain": [
       "GridSearchCV(cv=10, estimator=SVC(),\n",
       "             param_grid={'C': [100, 1000, 10000, 100000],\n",
       "                         'gamma': [0.01, 0.001, 0.0001, 1e-05, 1e-06],\n",
       "                         'kernel': ['rbf']},\n",
       "             return_train_score=True, scoring='accuracy')"
      ]
     },
     "execution_count": 112,
     "metadata": {},
     "output_type": "execute_result"
    }
   ],
   "source": [
    "grid_search.fit(X_prepared, y_prep)"
   ]
  },
  {
   "cell_type": "code",
   "execution_count": 113,
   "id": "313de712",
   "metadata": {},
   "outputs": [],
   "source": [
    "titanic_test = pd.read_csv('./dataset/test.csv')"
   ]
  },
  {
   "cell_type": "code",
   "execution_count": 114,
   "id": "db51eaa1",
   "metadata": {},
   "outputs": [],
   "source": [
    "passenger_id = titanic_test['PassengerId'].values"
   ]
  },
  {
   "cell_type": "code",
   "execution_count": 115,
   "id": "d2ea3922",
   "metadata": {},
   "outputs": [],
   "source": [
    "gender_sub_df = pd.read_csv('./dataset/gender_submission.csv')"
   ]
  },
  {
   "cell_type": "code",
   "execution_count": 116,
   "id": "525b3d10",
   "metadata": {},
   "outputs": [],
   "source": [
    "gender_sub_df.set_index(keys='PassengerId', inplace=True)"
   ]
  },
  {
   "cell_type": "code",
   "execution_count": 117,
   "id": "e173a8c5",
   "metadata": {},
   "outputs": [],
   "source": [
    "y_test_final = gender_sub_df.loc[passenger_id, 'Survived']"
   ]
  },
  {
   "cell_type": "code",
   "execution_count": 118,
   "id": "e534d04f",
   "metadata": {},
   "outputs": [
    {
     "name": "stderr",
     "output_type": "stream",
     "text": [
      "C:\\Users\\sayan\\AppData\\Local\\Temp\\ipykernel_14540\\2670576304.py:69: SettingWithCopyWarning: \n",
      "A value is trying to be set on a copy of a slice from a DataFrame\n",
      "\n",
      "See the caveats in the documentation: https://pandas.pydata.org/pandas-docs/stable/user_guide/indexing.html#returning-a-view-versus-a-copy\n",
      "  df_age_avg['Concate'][i] = df_age_avg['Concate'][i] + str(df_age_avg['Pclass'][i])\n",
      "C:\\Users\\sayan\\AppData\\Local\\Temp\\ipykernel_14540\\2670576304.py:74: SettingWithCopyWarning: \n",
      "A value is trying to be set on a copy of a slice from a DataFrame\n",
      "\n",
      "See the caveats in the documentation: https://pandas.pydata.org/pandas-docs/stable/user_guide/indexing.html#returning-a-view-versus-a-copy\n",
      "  X['Concate'][i] = X['Concate'][i] + str(X['Pclass'][i])\n",
      "C:\\Users\\sayan\\AppData\\Local\\Temp\\ipykernel_14540\\2670576304.py:76: SettingWithCopyWarning: \n",
      "A value is trying to be set on a copy of a slice from a DataFrame\n",
      "\n",
      "See the caveats in the documentation: https://pandas.pydata.org/pandas-docs/stable/user_guide/indexing.html#returning-a-view-versus-a-copy\n",
      "  X['Age'][i] = avg_age.get(X['Concate'][i])\n"
     ]
    }
   ],
   "source": [
    "X_test = data_prep.fit_transform(titanic_test)"
   ]
  },
  {
   "cell_type": "code",
   "execution_count": null,
   "id": "bee9361a",
   "metadata": {},
   "outputs": [],
   "source": []
  },
  {
   "cell_type": "code",
   "execution_count": 119,
   "id": "1317ae6e",
   "metadata": {},
   "outputs": [],
   "source": [
    "X_test_prepared = dataprep(X_test)"
   ]
  },
  {
   "cell_type": "code",
   "execution_count": 120,
   "id": "abb664bb",
   "metadata": {},
   "outputs": [
    {
     "data": {
      "text/html": [
       "<div>\n",
       "<style scoped>\n",
       "    .dataframe tbody tr th:only-of-type {\n",
       "        vertical-align: middle;\n",
       "    }\n",
       "\n",
       "    .dataframe tbody tr th {\n",
       "        vertical-align: top;\n",
       "    }\n",
       "\n",
       "    .dataframe thead th {\n",
       "        text-align: right;\n",
       "    }\n",
       "</style>\n",
       "<table border=\"1\" class=\"dataframe\">\n",
       "  <thead>\n",
       "    <tr style=\"text-align: right;\">\n",
       "      <th></th>\n",
       "      <th>0</th>\n",
       "      <th>1</th>\n",
       "      <th>2</th>\n",
       "      <th>3</th>\n",
       "      <th>4</th>\n",
       "      <th>5</th>\n",
       "      <th>6</th>\n",
       "      <th>7</th>\n",
       "      <th>8</th>\n",
       "      <th>9</th>\n",
       "      <th>10</th>\n",
       "      <th>11</th>\n",
       "    </tr>\n",
       "  </thead>\n",
       "  <tbody>\n",
       "    <tr>\n",
       "      <th>0</th>\n",
       "      <td>0.873482</td>\n",
       "      <td>1.064126</td>\n",
       "      <td>0.134137</td>\n",
       "      <td>-0.711711</td>\n",
       "      <td>-0.479074</td>\n",
       "      <td>0.0</td>\n",
       "      <td>1.0</td>\n",
       "      <td>0.0</td>\n",
       "      <td>0.0</td>\n",
       "      <td>1.0</td>\n",
       "      <td>0.0</td>\n",
       "      <td>0.0</td>\n",
       "    </tr>\n",
       "    <tr>\n",
       "      <th>1</th>\n",
       "      <td>0.873482</td>\n",
       "      <td>2.492836</td>\n",
       "      <td>0.134137</td>\n",
       "      <td>1.882723</td>\n",
       "      <td>-0.479074</td>\n",
       "      <td>1.0</td>\n",
       "      <td>0.0</td>\n",
       "      <td>0.0</td>\n",
       "      <td>0.0</td>\n",
       "      <td>0.0</td>\n",
       "      <td>1.0</td>\n",
       "      <td>0.0</td>\n",
       "    </tr>\n",
       "    <tr>\n",
       "      <th>2</th>\n",
       "      <td>-0.315819</td>\n",
       "      <td>2.016599</td>\n",
       "      <td>-0.944115</td>\n",
       "      <td>-0.711711</td>\n",
       "      <td>-0.479074</td>\n",
       "      <td>0.0</td>\n",
       "      <td>1.0</td>\n",
       "      <td>0.0</td>\n",
       "      <td>0.0</td>\n",
       "      <td>1.0</td>\n",
       "      <td>0.0</td>\n",
       "      <td>0.0</td>\n",
       "    </tr>\n",
       "    <tr>\n",
       "      <th>3</th>\n",
       "      <td>0.873482</td>\n",
       "      <td>1.064126</td>\n",
       "      <td>0.134137</td>\n",
       "      <td>-0.711711</td>\n",
       "      <td>-0.479074</td>\n",
       "      <td>0.0</td>\n",
       "      <td>1.0</td>\n",
       "      <td>0.0</td>\n",
       "      <td>0.0</td>\n",
       "      <td>1.0</td>\n",
       "      <td>0.0</td>\n",
       "      <td>0.0</td>\n",
       "    </tr>\n",
       "    <tr>\n",
       "      <th>4</th>\n",
       "      <td>0.873482</td>\n",
       "      <td>-0.364583</td>\n",
       "      <td>0.134137</td>\n",
       "      <td>1.882723</td>\n",
       "      <td>-0.479074</td>\n",
       "      <td>1.0</td>\n",
       "      <td>0.0</td>\n",
       "      <td>0.0</td>\n",
       "      <td>0.0</td>\n",
       "      <td>0.0</td>\n",
       "      <td>1.0</td>\n",
       "      <td>0.0</td>\n",
       "    </tr>\n",
       "  </tbody>\n",
       "</table>\n",
       "</div>"
      ],
      "text/plain": [
       "         0         1         2         3         4    5    6    7    8    9   \\\n",
       "0  0.873482  1.064126  0.134137 -0.711711 -0.479074  0.0  1.0  0.0  0.0  1.0   \n",
       "1  0.873482  2.492836  0.134137  1.882723 -0.479074  1.0  0.0  0.0  0.0  0.0   \n",
       "2 -0.315819  2.016599 -0.944115 -0.711711 -0.479074  0.0  1.0  0.0  0.0  1.0   \n",
       "3  0.873482  1.064126  0.134137 -0.711711 -0.479074  0.0  1.0  0.0  0.0  1.0   \n",
       "4  0.873482 -0.364583  0.134137  1.882723 -0.479074  1.0  0.0  0.0  0.0  0.0   \n",
       "\n",
       "    10   11  \n",
       "0  0.0  0.0  \n",
       "1  1.0  0.0  \n",
       "2  0.0  0.0  \n",
       "3  0.0  0.0  \n",
       "4  1.0  0.0  "
      ]
     },
     "execution_count": 120,
     "metadata": {},
     "output_type": "execute_result"
    }
   ],
   "source": [
    "pd.DataFrame(X_test_prepared).head()"
   ]
  },
  {
   "cell_type": "code",
   "execution_count": 121,
   "id": "b1f0dd0c",
   "metadata": {},
   "outputs": [
    {
     "data": {
      "text/plain": [
       "Mr        240\n",
       "Miss       79\n",
       "Mrs        72\n",
       "Master     21\n",
       "Rare        6\n",
       "Name: Title, dtype: int64"
      ]
     },
     "execution_count": 121,
     "metadata": {},
     "output_type": "execute_result"
    }
   ],
   "source": [
    "X_test['Title'].value_counts(dropna=False)"
   ]
  },
  {
   "cell_type": "code",
   "execution_count": 122,
   "id": "cdeb55dc",
   "metadata": {},
   "outputs": [
    {
     "name": "stdout",
     "output_type": "stream",
     "text": [
      "<class 'pandas.core.frame.DataFrame'>\n",
      "RangeIndex: 418 entries, 0 to 417\n",
      "Data columns (total 7 columns):\n",
      " #   Column         Non-Null Count  Dtype \n",
      "---  ------         --------------  ----- \n",
      " 0   Pclass         418 non-null    int64 \n",
      " 1   Sex            418 non-null    object\n",
      " 2   Title          418 non-null    object\n",
      " 3   age*class      418 non-null    int64 \n",
      " 4   Fare*class     418 non-null    int64 \n",
      " 5   IsALone*class  418 non-null    int64 \n",
      " 6   Cabin*class    418 non-null    int64 \n",
      "dtypes: int64(5), object(2)\n",
      "memory usage: 23.0+ KB\n"
     ]
    }
   ],
   "source": [
    "X_test.info()"
   ]
  },
  {
   "cell_type": "code",
   "execution_count": 123,
   "id": "4aff5f3d",
   "metadata": {},
   "outputs": [],
   "source": [
    "final_model = grid_search.best_estimator_"
   ]
  },
  {
   "cell_type": "code",
   "execution_count": 124,
   "id": "97856036",
   "metadata": {},
   "outputs": [],
   "source": [
    "y_test_pred = final_model.predict(X_test_prepared)"
   ]
  },
  {
   "cell_type": "code",
   "execution_count": 125,
   "id": "7f6f153f",
   "metadata": {},
   "outputs": [
    {
     "name": "stdout",
     "output_type": "stream",
     "text": [
      "[[250  16]\n",
      " [ 11 141]]\n",
      "Accurecy score:  0.9354066985645934\n"
     ]
    },
    {
     "data": {
      "text/plain": [
       "<Axes: >"
      ]
     },
     "execution_count": 125,
     "metadata": {},
     "output_type": "execute_result"
    },
    {
     "data": {
      "image/png": "[encoded data removed]",
      "text/plain": [
       "<Figure size 640x480 with 2 Axes>"
      ]
     },
     "metadata": {},
     "output_type": "display_data"
    }
   ],
   "source": [
    "confusion_metric = metrics.confusion_matrix(y_test_final, y_test_pred)\n",
    "print(confusion_metric)\n",
    "print('Accurecy score: ', metrics.accuracy_score(y_test_final, y_test_pred))\n",
    "sns.heatmap(confusion_metric, annot= True, cmap= 'Blues', fmt='g')"
   ]
  },
  {
   "cell_type": "code",
   "execution_count": null,
   "id": "abd0d6f7",
   "metadata": {},
   "outputs": [],
   "source": []
  },
  {
   "cell_type": "markdown",
   "id": "dc29bc51",
   "metadata": {},
   "source": [
    "### Preparing the data for submission"
   ]
  },
  {
   "cell_type": "code",
   "execution_count": 126,
   "id": "a837ab40",
   "metadata": {},
   "outputs": [],
   "source": [
    "test_df = pd.read_csv('./dataset/test.csv')"
   ]
  },
  {
   "cell_type": "code",
   "execution_count": 127,
   "id": "66daf2b0",
   "metadata": {},
   "outputs": [],
   "source": [
    "submit_df = pd.DataFrame({'PassengerID' : test_df['PassengerId'], 'Survived' : y_test_pred})"
   ]
  },
  {
   "cell_type": "code",
   "execution_count": 128,
   "id": "fcfb73ca",
   "metadata": {},
   "outputs": [
    {
     "data": {
      "text/plain": [
       "(418, 2)"
      ]
     },
     "execution_count": 128,
     "metadata": {},
     "output_type": "execute_result"
    }
   ],
   "source": [
    "submit_df.shape"
   ]
  },
  {
   "cell_type": "code",
   "execution_count": 129,
   "id": "d71603c6",
   "metadata": {},
   "outputs": [
    {
     "data": {
      "text/html": [
       "<div>\n",
       "<style scoped>\n",
       "    .dataframe tbody tr th:only-of-type {\n",
       "        vertical-align: middle;\n",
       "    }\n",
       "\n",
       "    .dataframe tbody tr th {\n",
       "        vertical-align: top;\n",
       "    }\n",
       "\n",
       "    .dataframe thead th {\n",
       "        text-align: right;\n",
       "    }\n",
       "</style>\n",
       "<table border=\"1\" class=\"dataframe\">\n",
       "  <thead>\n",
       "    <tr style=\"text-align: right;\">\n",
       "      <th></th>\n",
       "      <th>PassengerID</th>\n",
       "      <th>Survived</th>\n",
       "    </tr>\n",
       "  </thead>\n",
       "  <tbody>\n",
       "    <tr>\n",
       "      <th>0</th>\n",
       "      <td>892</td>\n",
       "      <td>0</td>\n",
       "    </tr>\n",
       "    <tr>\n",
       "      <th>1</th>\n",
       "      <td>893</td>\n",
       "      <td>0</td>\n",
       "    </tr>\n",
       "    <tr>\n",
       "      <th>2</th>\n",
       "      <td>894</td>\n",
       "      <td>0</td>\n",
       "    </tr>\n",
       "    <tr>\n",
       "      <th>3</th>\n",
       "      <td>895</td>\n",
       "      <td>0</td>\n",
       "    </tr>\n",
       "    <tr>\n",
       "      <th>4</th>\n",
       "      <td>896</td>\n",
       "      <td>1</td>\n",
       "    </tr>\n",
       "    <tr>\n",
       "      <th>...</th>\n",
       "      <td>...</td>\n",
       "      <td>...</td>\n",
       "    </tr>\n",
       "    <tr>\n",
       "      <th>413</th>\n",
       "      <td>1305</td>\n",
       "      <td>0</td>\n",
       "    </tr>\n",
       "    <tr>\n",
       "      <th>414</th>\n",
       "      <td>1306</td>\n",
       "      <td>1</td>\n",
       "    </tr>\n",
       "    <tr>\n",
       "      <th>415</th>\n",
       "      <td>1307</td>\n",
       "      <td>0</td>\n",
       "    </tr>\n",
       "    <tr>\n",
       "      <th>416</th>\n",
       "      <td>1308</td>\n",
       "      <td>0</td>\n",
       "    </tr>\n",
       "    <tr>\n",
       "      <th>417</th>\n",
       "      <td>1309</td>\n",
       "      <td>1</td>\n",
       "    </tr>\n",
       "  </tbody>\n",
       "</table>\n",
       "<p>418 rows × 2 columns</p>\n",
       "</div>"
      ],
      "text/plain": [
       "     PassengerID  Survived\n",
       "0            892         0\n",
       "1            893         0\n",
       "2            894         0\n",
       "3            895         0\n",
       "4            896         1\n",
       "..           ...       ...\n",
       "413         1305         0\n",
       "414         1306         1\n",
       "415         1307         0\n",
       "416         1308         0\n",
       "417         1309         1\n",
       "\n",
       "[418 rows x 2 columns]"
      ]
     },
     "execution_count": 129,
     "metadata": {},
     "output_type": "execute_result"
    }
   ],
   "source": [
    "submit_df"
   ]
  },
  {
   "cell_type": "code",
   "execution_count": 130,
   "id": "92c2f49c",
   "metadata": {},
   "outputs": [],
   "source": [
    "# Save the file in csv\n",
    "submit_df.to_csv('./submission/submit.csv',index=False)"
   ]
  },
  {
   "cell_type": "code",
   "execution_count": null,
   "id": "d20c3967",
   "metadata": {},
   "outputs": [],
   "source": []
  }
 ],
 "metadata": {
  "kernelspec": {
   "display_name": "Python 3 (ipykernel)",
   "language": "python",
   "name": "python3"
  },
  "language_info": {
   "codemirror_mode": {
    "name": "ipython",
    "version": 3
   },
   "file_extension": ".py",
   "mimetype": "text/x-python",
   "name": "python",
   "nbconvert_exporter": "python",
   "pygments_lexer": "ipython3",
   "version": "3.11.3"
  }
 },
 "nbformat": 4,
 "nbformat_minor": 5
}
